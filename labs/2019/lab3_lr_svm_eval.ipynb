{
 "cells": [
  {
   "cell_type": "markdown",
   "metadata": {},
   "source": [
    "# Lab 3: Logistic Regression, Support Vector Machines, and Evaluation\n",
    "\n",
    "\n",
    "In this lab we'll get some hands on experience with two more classifiers we've seen in class\n",
    "- Logitic Regression\n",
    "- Support Vector Machines\n",
    "\n",
    "We will also explore evaluation metrics that we covered in class and understand how to calculate them."
   ]
  },
  {
   "cell_type": "markdown",
   "metadata": {},
   "source": [
    "## Goals for this lab\n",
    "\n",
    "- Understand the practical implications for changing the parameters used in Logistic Regression and Support Vector Machines\n",
    "  \n",
    "- Learn more about the evaluation metrics covered in class and learn how to calculate them (at different thresholds)\n",
    "  - accuracy\n",
    "  - precision\n",
    "  - recall\n",
    "  - AUC"
   ]
  },
  {
   "cell_type": "code",
   "execution_count": 21,
   "metadata": {},
   "outputs": [],
   "source": [
    "### import matplotlib.pyplot as plt\n",
    "import numpy as np\n",
    "import pandas as pd\n",
    "\n",
    "import sklearn.tree as tree\n",
    "from sklearn.tree import DecisionTreeClassifier\n",
    "from sklearn.neighbors import KNeighborsClassifier\n",
    "from sklearn.linear_model import LogisticRegression\n",
    "from sklearn.svm import LinearSVC\n",
    "\n",
    "from sklearn.model_selection import train_test_split\n",
    "from sklearn.metrics import accuracy_score as accuracy\n",
    "from sklearn.metrics import confusion_matrix\n",
    "from sklearn.metrics import precision_recall_curve\n",
    "\n",
    "import graphviz # If you don't have this, install via pip/conda\n",
    "from tqdm import tqdm\n",
    "\n",
    "from matplotlib import pyplot as plt\n",
    "%matplotlib inline\n",
    "\n",
    "# exercise: what additional modules should you import?"
   ]
  },
  {
   "cell_type": "markdown",
   "metadata": {},
   "source": [
    "# Data\n",
    "We'll continue to use the same data as in the previous lab.\n",
    "\n",
    "It is a subset of the data set from https://www.kaggle.com/new-york-state/nys-patient-characteristics-survey-pcs-2015\n",
    "\n",
    "The data has been downloaded, modified, and is in the github repo for the lab\n",
    "\n",
    "You should also try this with other data sets you have been provided for the homeworks."
   ]
  },
  {
   "cell_type": "code",
   "execution_count": 2,
   "metadata": {},
   "outputs": [],
   "source": [
    "# Change this to wherever you're storing your data\n",
    "datafile = '../data/nysmedicaldata.csv'\n",
    "df = pd.read_csv(datafile)"
   ]
  },
  {
   "cell_type": "code",
   "execution_count": 3,
   "metadata": {},
   "outputs": [
    {
     "data": {
      "text/html": [
       "<div>\n",
       "<style scoped>\n",
       "    .dataframe tbody tr th:only-of-type {\n",
       "        vertical-align: middle;\n",
       "    }\n",
       "\n",
       "    .dataframe tbody tr th {\n",
       "        vertical-align: top;\n",
       "    }\n",
       "\n",
       "    .dataframe thead th {\n",
       "        text-align: right;\n",
       "    }\n",
       "</style>\n",
       "<table border=\"1\" class=\"dataframe\">\n",
       "  <thead>\n",
       "    <tr style=\"text-align: right;\">\n",
       "      <th></th>\n",
       "      <th>Region Served</th>\n",
       "      <th>Age Group</th>\n",
       "      <th>Sex</th>\n",
       "      <th>Transgender</th>\n",
       "      <th>Sexual Orientation</th>\n",
       "      <th>Hispanic Ethnicity</th>\n",
       "      <th>Race</th>\n",
       "      <th>Living Situation</th>\n",
       "      <th>Household Composition</th>\n",
       "      <th>Preferred Language</th>\n",
       "      <th>...</th>\n",
       "      <th>No Insurance</th>\n",
       "      <th>Unknown Insurance Coverage</th>\n",
       "      <th>Medicaid Insurance</th>\n",
       "      <th>Medicaid Managed Insurance</th>\n",
       "      <th>Medicare Insurance</th>\n",
       "      <th>Private Insurance</th>\n",
       "      <th>Child Health Plus Insurance</th>\n",
       "      <th>Other Insurance</th>\n",
       "      <th>Criminal Justice Status</th>\n",
       "      <th>Three Digit Residence Zip Code</th>\n",
       "    </tr>\n",
       "  </thead>\n",
       "  <tbody>\n",
       "    <tr>\n",
       "      <th>0</th>\n",
       "      <td>HUDSON RIVER REGION</td>\n",
       "      <td>ADULT</td>\n",
       "      <td>MALE</td>\n",
       "      <td>NO, NOT TRANSGENDER</td>\n",
       "      <td>STRAIGHT OR HETEROSEXUAL</td>\n",
       "      <td>YES</td>\n",
       "      <td>OTHER</td>\n",
       "      <td>OTHER LIVING SITUATION</td>\n",
       "      <td>NOT APPLICABLE</td>\n",
       "      <td>ENGLISH</td>\n",
       "      <td>...</td>\n",
       "      <td>NO</td>\n",
       "      <td>NO</td>\n",
       "      <td>YES</td>\n",
       "      <td>NO</td>\n",
       "      <td>NO</td>\n",
       "      <td>NO</td>\n",
       "      <td>NO</td>\n",
       "      <td>NO</td>\n",
       "      <td>YES</td>\n",
       "      <td>113</td>\n",
       "    </tr>\n",
       "    <tr>\n",
       "      <th>1</th>\n",
       "      <td>NEW YORK CITY REGION</td>\n",
       "      <td>ADULT</td>\n",
       "      <td>MALE</td>\n",
       "      <td>NO, NOT TRANSGENDER</td>\n",
       "      <td>STRAIGHT OR HETEROSEXUAL</td>\n",
       "      <td>NO, NOT HISPANIC/LATINO</td>\n",
       "      <td>WHITE ONLY</td>\n",
       "      <td>INSTITUTIONAL SETTING</td>\n",
       "      <td>NOT APPLICABLE</td>\n",
       "      <td>ENGLISH</td>\n",
       "      <td>...</td>\n",
       "      <td>NO</td>\n",
       "      <td>NO</td>\n",
       "      <td>YES</td>\n",
       "      <td>NO</td>\n",
       "      <td>UNKNOWN</td>\n",
       "      <td>NO</td>\n",
       "      <td>NO</td>\n",
       "      <td>UNKNOWN</td>\n",
       "      <td>YES</td>\n",
       "      <td>113</td>\n",
       "    </tr>\n",
       "    <tr>\n",
       "      <th>2</th>\n",
       "      <td>HUDSON RIVER REGION</td>\n",
       "      <td>ADULT</td>\n",
       "      <td>MALE</td>\n",
       "      <td>NO, NOT TRANSGENDER</td>\n",
       "      <td>STRAIGHT OR HETEROSEXUAL</td>\n",
       "      <td>NO, NOT HISPANIC/LATINO</td>\n",
       "      <td>WHITE ONLY</td>\n",
       "      <td>PRIVATE RESIDENCE</td>\n",
       "      <td>COHABITATES WITH OTHERS</td>\n",
       "      <td>ENGLISH</td>\n",
       "      <td>...</td>\n",
       "      <td>NO</td>\n",
       "      <td>NO</td>\n",
       "      <td>YES</td>\n",
       "      <td>NO</td>\n",
       "      <td>NO</td>\n",
       "      <td>NO</td>\n",
       "      <td>NO</td>\n",
       "      <td>NO</td>\n",
       "      <td>YES</td>\n",
       "      <td>107</td>\n",
       "    </tr>\n",
       "    <tr>\n",
       "      <th>3</th>\n",
       "      <td>NEW YORK CITY REGION</td>\n",
       "      <td>ADULT</td>\n",
       "      <td>FEMALE</td>\n",
       "      <td>NO, NOT TRANSGENDER</td>\n",
       "      <td>STRAIGHT OR HETEROSEXUAL</td>\n",
       "      <td>NO, NOT HISPANIC/LATINO</td>\n",
       "      <td>OTHER</td>\n",
       "      <td>OTHER LIVING SITUATION</td>\n",
       "      <td>NOT APPLICABLE</td>\n",
       "      <td>ASIAN AND PACIFIC ISLAND</td>\n",
       "      <td>...</td>\n",
       "      <td>YES</td>\n",
       "      <td>NO</td>\n",
       "      <td>NO</td>\n",
       "      <td>NOT APPLICABLE</td>\n",
       "      <td>NO</td>\n",
       "      <td>NO</td>\n",
       "      <td>NO</td>\n",
       "      <td>NO</td>\n",
       "      <td>YES</td>\n",
       "      <td>888</td>\n",
       "    </tr>\n",
       "    <tr>\n",
       "      <th>4</th>\n",
       "      <td>LONG ISLAND REGION</td>\n",
       "      <td>ADULT</td>\n",
       "      <td>MALE</td>\n",
       "      <td>NO, NOT TRANSGENDER</td>\n",
       "      <td>STRAIGHT OR HETEROSEXUAL</td>\n",
       "      <td>NO, NOT HISPANIC/LATINO</td>\n",
       "      <td>BLACK ONLY</td>\n",
       "      <td>OTHER LIVING SITUATION</td>\n",
       "      <td>NOT APPLICABLE</td>\n",
       "      <td>ENGLISH</td>\n",
       "      <td>...</td>\n",
       "      <td>NO</td>\n",
       "      <td>NO</td>\n",
       "      <td>YES</td>\n",
       "      <td>UNKNOWN</td>\n",
       "      <td>YES</td>\n",
       "      <td>NO</td>\n",
       "      <td>NO</td>\n",
       "      <td>NO</td>\n",
       "      <td>NO</td>\n",
       "      <td>117</td>\n",
       "    </tr>\n",
       "  </tbody>\n",
       "</table>\n",
       "<p>5 rows × 65 columns</p>\n",
       "</div>"
      ],
      "text/plain": [
       "          Region Served Age Group     Sex          Transgender  \\\n",
       "0   HUDSON RIVER REGION     ADULT    MALE  NO, NOT TRANSGENDER   \n",
       "1  NEW YORK CITY REGION     ADULT    MALE  NO, NOT TRANSGENDER   \n",
       "2   HUDSON RIVER REGION     ADULT    MALE  NO, NOT TRANSGENDER   \n",
       "3  NEW YORK CITY REGION     ADULT  FEMALE  NO, NOT TRANSGENDER   \n",
       "4    LONG ISLAND REGION     ADULT    MALE  NO, NOT TRANSGENDER   \n",
       "\n",
       "         Sexual Orientation       Hispanic Ethnicity        Race  \\\n",
       "0  STRAIGHT OR HETEROSEXUAL                      YES       OTHER   \n",
       "1  STRAIGHT OR HETEROSEXUAL  NO, NOT HISPANIC/LATINO  WHITE ONLY   \n",
       "2  STRAIGHT OR HETEROSEXUAL  NO, NOT HISPANIC/LATINO  WHITE ONLY   \n",
       "3  STRAIGHT OR HETEROSEXUAL  NO, NOT HISPANIC/LATINO       OTHER   \n",
       "4  STRAIGHT OR HETEROSEXUAL  NO, NOT HISPANIC/LATINO  BLACK ONLY   \n",
       "\n",
       "         Living Situation    Household Composition        Preferred Language  \\\n",
       "0  OTHER LIVING SITUATION           NOT APPLICABLE                   ENGLISH   \n",
       "1   INSTITUTIONAL SETTING           NOT APPLICABLE                   ENGLISH   \n",
       "2       PRIVATE RESIDENCE  COHABITATES WITH OTHERS                   ENGLISH   \n",
       "3  OTHER LIVING SITUATION           NOT APPLICABLE  ASIAN AND PACIFIC ISLAND   \n",
       "4  OTHER LIVING SITUATION           NOT APPLICABLE                   ENGLISH   \n",
       "\n",
       "   ... No Insurance Unknown Insurance Coverage Medicaid Insurance  \\\n",
       "0  ...           NO                         NO                YES   \n",
       "1  ...           NO                         NO                YES   \n",
       "2  ...           NO                         NO                YES   \n",
       "3  ...          YES                         NO                 NO   \n",
       "4  ...           NO                         NO                YES   \n",
       "\n",
       "  Medicaid Managed Insurance Medicare Insurance Private Insurance  \\\n",
       "0                         NO                 NO                NO   \n",
       "1                         NO            UNKNOWN                NO   \n",
       "2                         NO                 NO                NO   \n",
       "3             NOT APPLICABLE                 NO                NO   \n",
       "4                    UNKNOWN                YES                NO   \n",
       "\n",
       "  Child Health Plus Insurance Other Insurance Criminal Justice Status  \\\n",
       "0                          NO              NO                     YES   \n",
       "1                          NO         UNKNOWN                     YES   \n",
       "2                          NO              NO                     YES   \n",
       "3                          NO              NO                     YES   \n",
       "4                          NO              NO                      NO   \n",
       "\n",
       "  Three Digit Residence Zip Code  \n",
       "0                            113  \n",
       "1                            113  \n",
       "2                            107  \n",
       "3                            888  \n",
       "4                            117  \n",
       "\n",
       "[5 rows x 65 columns]"
      ]
     },
     "execution_count": 3,
     "metadata": {},
     "output_type": "execute_result"
    }
   ],
   "source": [
    "df.head()"
   ]
  },
  {
   "cell_type": "code",
   "execution_count": 4,
   "metadata": {},
   "outputs": [
    {
     "data": {
      "text/plain": [
       "Region Served                       object\n",
       "Age Group                           object\n",
       "Sex                                 object\n",
       "Transgender                         object\n",
       "Sexual Orientation                  object\n",
       "Hispanic Ethnicity                  object\n",
       "Race                                object\n",
       "Living Situation                    object\n",
       "Household Composition               object\n",
       "Preferred Language                  object\n",
       "Veteran Status                      object\n",
       "Employment Status                   object\n",
       "Number Of Hours Worked Each Week    object\n",
       "Education Status                    object\n",
       "Special Education Services          object\n",
       "Mental Illness                      object\n",
       "Intellectual Disability             object\n",
       "Autism Spectrum                     object\n",
       "Other Developmental Disability      object\n",
       "Alcohol Related Disorder            object\n",
       "Drug Substance Disorder             object\n",
       "Mobility Impairment Disorder        object\n",
       "Hearing Visual Impairment           object\n",
       "Hyperlipidemia                      object\n",
       "High Blood Pressure                 object\n",
       "Diabetes                            object\n",
       "Obesity                             object\n",
       "Heart Attack                        object\n",
       "Stroke                              object\n",
       "Other Cardiac                       object\n",
       "                                     ...  \n",
       "Neurological Condition              object\n",
       "Traumatic Brain Injury              object\n",
       "Joint Disease                       object\n",
       "Cancer                              object\n",
       "Other Chronic Med Condition         object\n",
       "No Chronic Med Condition            object\n",
       "Unknown Chronic Med Condition       object\n",
       "Smokes                              object\n",
       "Received Smoking Medication         object\n",
       "Received Smoking Counseling         object\n",
       "Serious Mental Illness              object\n",
       "Principal Diagnosis Class           object\n",
       "Additional Diagnosis Class          object\n",
       "SSI Cash Assistance                 object\n",
       "SSDI Cash Assistance                object\n",
       "Veterans Disability Benefits        object\n",
       "Veterans Cash Assistance            object\n",
       "Public Assistance Cash Program      object\n",
       "Other Cash Benefits                 object\n",
       "Medicaid and Medicare Insurance     object\n",
       "No Insurance                        object\n",
       "Unknown Insurance Coverage          object\n",
       "Medicaid Insurance                  object\n",
       "Medicaid Managed Insurance          object\n",
       "Medicare Insurance                  object\n",
       "Private Insurance                   object\n",
       "Child Health Plus Insurance         object\n",
       "Other Insurance                     object\n",
       "Criminal Justice Status             object\n",
       "Three Digit Residence Zip Code       int64\n",
       "Length: 65, dtype: object"
      ]
     },
     "execution_count": 4,
     "metadata": {},
     "output_type": "execute_result"
    }
   ],
   "source": [
    "df.dtypes"
   ]
  },
  {
   "cell_type": "markdown",
   "metadata": {},
   "source": [
    "# Some Quick Data Exploration\n",
    "Before running any sort of model on your dataset, it's always a good idea to do some quick data exploration to get a sense of how your data looks like. Try to answer the following questions with some sort of plot/histogram/etc:\n",
    "\n",
    "1) What do the distributions of each feature look like?"
   ]
  },
  {
   "cell_type": "code",
   "execution_count": null,
   "metadata": {
    "collapsed": true
   },
   "outputs": [],
   "source": [
    "# Ex\n"
   ]
  },
  {
   "cell_type": "markdown",
   "metadata": {},
   "source": [
    "# Using scikitlearn for classification\n",
    "\n",
    "sklearn is a very useful python packager for building machiune learning models. To build a model in sklearn, you need to have a matrix (or dataframe) with X and y columns. X is your set of features/predictors. y is a single column that is your label. We'll take the foll;owing steps:\n",
    "\n",
    "1. Select/create column as label/outcome (y)\n",
    "2. Select/create columns as features (X)\n",
    "3. Create Training Set\n",
    "4. Create Validation Set\n",
    "5. Build model on Training Set\n",
    "6. Predict risk scores for the Validation Set\n",
    "7. Calculate performance metric(s)\n",
    "\n",
    "## Some useful things to know in sklearn\n",
    "\n",
    "fit = train an algorithm\n",
    "\n",
    "predict_proba = predict a \"risk\" score for all possible classes for a given record (classification only)\n",
    "\n",
    "\n",
    "## Important- never use .predict\n",
    "There is also a function called \"predict\" which first runs predict_probs and then predicts a 1 if the score > 0.5 and 0 otherwise. *Never* use that function since 0.5 is a completely arbitrary threshold to call a prediction 1 vs 0.\n",
    "\n"
   ]
  },
  {
   "cell_type": "markdown",
   "metadata": {},
   "source": [
    "## 1. Create label/outcome\n",
    "One thing we can do with this dataset is to try to use the various feature columns to classify whether a person has High Blood Pressure. Let's create a column that is 1 if a person has High Blood Pressure and 0 otherwise"
   ]
  },
  {
   "cell_type": "code",
   "execution_count": 7,
   "metadata": {},
   "outputs": [],
   "source": [
    "# code\n",
    "df[\"HBP\"] = np.where(df[\"High Blood Pressure\"]==\"YES\",1,0)"
   ]
  },
  {
   "cell_type": "markdown",
   "metadata": {},
   "source": [
    "### Question: what percentage of people have High Blood Pressure?"
   ]
  },
  {
   "cell_type": "code",
   "execution_count": 8,
   "metadata": {},
   "outputs": [
    {
     "data": {
      "text/plain": [
       "0.21600738092492217"
      ]
     },
     "execution_count": 8,
     "metadata": {},
     "output_type": "execute_result"
    }
   ],
   "source": [
    "# code\n",
    "df[\"HBP\"].mean()"
   ]
  },
  {
   "cell_type": "markdown",
   "metadata": {},
   "source": [
    "## 2. create or select existing predictors/features\n",
    "\n",
    "For now, let's take a handful of existing columns to use.\n",
    "\n",
    "sklearn needs features to be numeric and not categorical so we'll have to turn our selected features to be binary (also known as dummy variables)"
   ]
  },
  {
   "cell_type": "code",
   "execution_count": 9,
   "metadata": {},
   "outputs": [
    {
     "data": {
      "text/html": [
       "<div>\n",
       "<style scoped>\n",
       "    .dataframe tbody tr th:only-of-type {\n",
       "        vertical-align: middle;\n",
       "    }\n",
       "\n",
       "    .dataframe tbody tr th {\n",
       "        vertical-align: top;\n",
       "    }\n",
       "\n",
       "    .dataframe thead th {\n",
       "        text-align: right;\n",
       "    }\n",
       "</style>\n",
       "<table border=\"1\" class=\"dataframe\">\n",
       "  <thead>\n",
       "    <tr style=\"text-align: right;\">\n",
       "      <th></th>\n",
       "      <th>Region Served</th>\n",
       "      <th>Age Group</th>\n",
       "      <th>Transgender</th>\n",
       "      <th>Sexual Orientation</th>\n",
       "      <th>Hispanic Ethnicity</th>\n",
       "      <th>Living Situation</th>\n",
       "      <th>Household Composition</th>\n",
       "      <th>Preferred Language</th>\n",
       "      <th>Veteran Status</th>\n",
       "      <th>Employment Status</th>\n",
       "      <th>...</th>\n",
       "      <th>Drug Substance Disorder_YES</th>\n",
       "      <th>Drug Substance Disorder_nan</th>\n",
       "      <th>Criminal Justice Status_NO</th>\n",
       "      <th>Criminal Justice Status_UNKNOWN</th>\n",
       "      <th>Criminal Justice Status_YES</th>\n",
       "      <th>Criminal Justice Status_nan</th>\n",
       "      <th>Private Insurance_NO</th>\n",
       "      <th>Private Insurance_UNKNOWN</th>\n",
       "      <th>Private Insurance_YES</th>\n",
       "      <th>Private Insurance_nan</th>\n",
       "    </tr>\n",
       "  </thead>\n",
       "  <tbody>\n",
       "    <tr>\n",
       "      <th>0</th>\n",
       "      <td>HUDSON RIVER REGION</td>\n",
       "      <td>ADULT</td>\n",
       "      <td>NO, NOT TRANSGENDER</td>\n",
       "      <td>STRAIGHT OR HETEROSEXUAL</td>\n",
       "      <td>YES</td>\n",
       "      <td>OTHER LIVING SITUATION</td>\n",
       "      <td>NOT APPLICABLE</td>\n",
       "      <td>ENGLISH</td>\n",
       "      <td>NO</td>\n",
       "      <td>NOT IN LABOR FORCE:UNEMPLOYED AND NOT LOOKING ...</td>\n",
       "      <td>...</td>\n",
       "      <td>1</td>\n",
       "      <td>0</td>\n",
       "      <td>0</td>\n",
       "      <td>0</td>\n",
       "      <td>1</td>\n",
       "      <td>0</td>\n",
       "      <td>1</td>\n",
       "      <td>0</td>\n",
       "      <td>0</td>\n",
       "      <td>0</td>\n",
       "    </tr>\n",
       "    <tr>\n",
       "      <th>1</th>\n",
       "      <td>NEW YORK CITY REGION</td>\n",
       "      <td>ADULT</td>\n",
       "      <td>NO, NOT TRANSGENDER</td>\n",
       "      <td>STRAIGHT OR HETEROSEXUAL</td>\n",
       "      <td>NO, NOT HISPANIC/LATINO</td>\n",
       "      <td>INSTITUTIONAL SETTING</td>\n",
       "      <td>NOT APPLICABLE</td>\n",
       "      <td>ENGLISH</td>\n",
       "      <td>NO</td>\n",
       "      <td>NOT IN LABOR FORCE:UNEMPLOYED AND NOT LOOKING ...</td>\n",
       "      <td>...</td>\n",
       "      <td>1</td>\n",
       "      <td>0</td>\n",
       "      <td>0</td>\n",
       "      <td>0</td>\n",
       "      <td>1</td>\n",
       "      <td>0</td>\n",
       "      <td>1</td>\n",
       "      <td>0</td>\n",
       "      <td>0</td>\n",
       "      <td>0</td>\n",
       "    </tr>\n",
       "    <tr>\n",
       "      <th>2</th>\n",
       "      <td>HUDSON RIVER REGION</td>\n",
       "      <td>ADULT</td>\n",
       "      <td>NO, NOT TRANSGENDER</td>\n",
       "      <td>STRAIGHT OR HETEROSEXUAL</td>\n",
       "      <td>NO, NOT HISPANIC/LATINO</td>\n",
       "      <td>PRIVATE RESIDENCE</td>\n",
       "      <td>COHABITATES WITH OTHERS</td>\n",
       "      <td>ENGLISH</td>\n",
       "      <td>NO</td>\n",
       "      <td>NOT IN LABOR FORCE:UNEMPLOYED AND NOT LOOKING ...</td>\n",
       "      <td>...</td>\n",
       "      <td>0</td>\n",
       "      <td>0</td>\n",
       "      <td>0</td>\n",
       "      <td>0</td>\n",
       "      <td>1</td>\n",
       "      <td>0</td>\n",
       "      <td>1</td>\n",
       "      <td>0</td>\n",
       "      <td>0</td>\n",
       "      <td>0</td>\n",
       "    </tr>\n",
       "    <tr>\n",
       "      <th>3</th>\n",
       "      <td>NEW YORK CITY REGION</td>\n",
       "      <td>ADULT</td>\n",
       "      <td>NO, NOT TRANSGENDER</td>\n",
       "      <td>STRAIGHT OR HETEROSEXUAL</td>\n",
       "      <td>NO, NOT HISPANIC/LATINO</td>\n",
       "      <td>OTHER LIVING SITUATION</td>\n",
       "      <td>NOT APPLICABLE</td>\n",
       "      <td>ASIAN AND PACIFIC ISLAND</td>\n",
       "      <td>NO</td>\n",
       "      <td>NOT IN LABOR FORCE:UNEMPLOYED AND NOT LOOKING ...</td>\n",
       "      <td>...</td>\n",
       "      <td>0</td>\n",
       "      <td>0</td>\n",
       "      <td>0</td>\n",
       "      <td>0</td>\n",
       "      <td>1</td>\n",
       "      <td>0</td>\n",
       "      <td>1</td>\n",
       "      <td>0</td>\n",
       "      <td>0</td>\n",
       "      <td>0</td>\n",
       "    </tr>\n",
       "    <tr>\n",
       "      <th>4</th>\n",
       "      <td>LONG ISLAND REGION</td>\n",
       "      <td>ADULT</td>\n",
       "      <td>NO, NOT TRANSGENDER</td>\n",
       "      <td>STRAIGHT OR HETEROSEXUAL</td>\n",
       "      <td>NO, NOT HISPANIC/LATINO</td>\n",
       "      <td>OTHER LIVING SITUATION</td>\n",
       "      <td>NOT APPLICABLE</td>\n",
       "      <td>ENGLISH</td>\n",
       "      <td>NO</td>\n",
       "      <td>NOT IN LABOR FORCE:UNEMPLOYED AND NOT LOOKING ...</td>\n",
       "      <td>...</td>\n",
       "      <td>0</td>\n",
       "      <td>0</td>\n",
       "      <td>1</td>\n",
       "      <td>0</td>\n",
       "      <td>0</td>\n",
       "      <td>0</td>\n",
       "      <td>1</td>\n",
       "      <td>0</td>\n",
       "      <td>0</td>\n",
       "      <td>0</td>\n",
       "    </tr>\n",
       "  </tbody>\n",
       "</table>\n",
       "<p>5 rows × 91 columns</p>\n",
       "</div>"
      ],
      "text/plain": [
       "          Region Served Age Group          Transgender  \\\n",
       "0   HUDSON RIVER REGION     ADULT  NO, NOT TRANSGENDER   \n",
       "1  NEW YORK CITY REGION     ADULT  NO, NOT TRANSGENDER   \n",
       "2   HUDSON RIVER REGION     ADULT  NO, NOT TRANSGENDER   \n",
       "3  NEW YORK CITY REGION     ADULT  NO, NOT TRANSGENDER   \n",
       "4    LONG ISLAND REGION     ADULT  NO, NOT TRANSGENDER   \n",
       "\n",
       "         Sexual Orientation       Hispanic Ethnicity        Living Situation  \\\n",
       "0  STRAIGHT OR HETEROSEXUAL                      YES  OTHER LIVING SITUATION   \n",
       "1  STRAIGHT OR HETEROSEXUAL  NO, NOT HISPANIC/LATINO   INSTITUTIONAL SETTING   \n",
       "2  STRAIGHT OR HETEROSEXUAL  NO, NOT HISPANIC/LATINO       PRIVATE RESIDENCE   \n",
       "3  STRAIGHT OR HETEROSEXUAL  NO, NOT HISPANIC/LATINO  OTHER LIVING SITUATION   \n",
       "4  STRAIGHT OR HETEROSEXUAL  NO, NOT HISPANIC/LATINO  OTHER LIVING SITUATION   \n",
       "\n",
       "     Household Composition        Preferred Language Veteran Status  \\\n",
       "0           NOT APPLICABLE                   ENGLISH             NO   \n",
       "1           NOT APPLICABLE                   ENGLISH             NO   \n",
       "2  COHABITATES WITH OTHERS                   ENGLISH             NO   \n",
       "3           NOT APPLICABLE  ASIAN AND PACIFIC ISLAND             NO   \n",
       "4           NOT APPLICABLE                   ENGLISH             NO   \n",
       "\n",
       "                                   Employment Status  ...  \\\n",
       "0  NOT IN LABOR FORCE:UNEMPLOYED AND NOT LOOKING ...  ...   \n",
       "1  NOT IN LABOR FORCE:UNEMPLOYED AND NOT LOOKING ...  ...   \n",
       "2  NOT IN LABOR FORCE:UNEMPLOYED AND NOT LOOKING ...  ...   \n",
       "3  NOT IN LABOR FORCE:UNEMPLOYED AND NOT LOOKING ...  ...   \n",
       "4  NOT IN LABOR FORCE:UNEMPLOYED AND NOT LOOKING ...  ...   \n",
       "\n",
       "  Drug Substance Disorder_YES Drug Substance Disorder_nan  \\\n",
       "0                           1                           0   \n",
       "1                           1                           0   \n",
       "2                           0                           0   \n",
       "3                           0                           0   \n",
       "4                           0                           0   \n",
       "\n",
       "  Criminal Justice Status_NO Criminal Justice Status_UNKNOWN  \\\n",
       "0                          0                               0   \n",
       "1                          0                               0   \n",
       "2                          0                               0   \n",
       "3                          0                               0   \n",
       "4                          1                               0   \n",
       "\n",
       "  Criminal Justice Status_YES Criminal Justice Status_nan  \\\n",
       "0                           1                           0   \n",
       "1                           1                           0   \n",
       "2                           1                           0   \n",
       "3                           1                           0   \n",
       "4                           0                           0   \n",
       "\n",
       "  Private Insurance_NO Private Insurance_UNKNOWN Private Insurance_YES  \\\n",
       "0                    1                         0                     0   \n",
       "1                    1                         0                     0   \n",
       "2                    1                         0                     0   \n",
       "3                    1                         0                     0   \n",
       "4                    1                         0                     0   \n",
       "\n",
       "  Private Insurance_nan  \n",
       "0                     0  \n",
       "1                     0  \n",
       "2                     0  \n",
       "3                     0  \n",
       "4                     0  \n",
       "\n",
       "[5 rows x 91 columns]"
      ]
     },
     "execution_count": 9,
     "metadata": {},
     "output_type": "execute_result"
    }
   ],
   "source": [
    "# code\n",
    "cols_to_transform = [ 'Sex', 'Race', 'Obesity', 'Smokes', 'Alcohol Related Disorder','Drug Substance Disorder',\n",
    "                    'Criminal Justice Status','Private Insurance']\n",
    "df = pd.get_dummies( df, dummy_na=True, columns = cols_to_transform )\n",
    "df.head()"
   ]
  },
  {
   "cell_type": "code",
   "execution_count": 10,
   "metadata": {},
   "outputs": [],
   "source": [
    "# code\n",
    "selected_features = ['Sex_FEMALE','Sex_MALE','Sex_UNKNOWN','Race_BLACK ONLY','Race_MULTI-RACIAL','Race_OTHER',\n",
    "                     'Race_UNKNOWN RACE','Race_WHITE ONLY', 'Obesity_YES', 'Obesity_NO', 'Obesity_nan', \n",
    "                     'Smokes_YES', 'Smokes_NO','Alcohol Related Disorder_NO','Alcohol Related Disorder_YES',\n",
    "                    'Alcohol Related Disorder_UNKNOWN','Criminal Justice Status_YES','Criminal Justice Status_NO',\n",
    "                    'Criminal Justice Status_UNKNOWN','Private Insurance_NO','Private Insurance_YES','Private Insurance_UNKNOWN']"
   ]
  },
  {
   "cell_type": "markdown",
   "metadata": {},
   "source": [
    "# Train/Test Splits\n",
    "\n",
    "Create a train/test set split using sklearn's [train_test_split](http://scikit-learn.org/stable/modules/generated/sklearn.model_selection.train_test_split.html) function. We'll use these train/test splits for evaluating all our classification models."
   ]
  },
  {
   "cell_type": "code",
   "execution_count": 11,
   "metadata": {},
   "outputs": [],
   "source": [
    "# code\n",
    "x = df[selected_features]\n",
    "y = df['HBP']\n",
    "test_size = 0.3 # you can adjust this\n",
    "x_train, x_test, y_train, y_test = train_test_split(x, y, test_size=test_size)"
   ]
  },
  {
   "cell_type": "markdown",
   "metadata": {
    "collapsed": true
   },
   "source": [
    "# Logistic Regression\n",
    "See the sklearn documentation on Logistic Regression to see its parameters. The one's we'll mostly be interested in are:\n",
    "- penalty\n",
    "- C"
   ]
  },
  {
   "cell_type": "markdown",
   "metadata": {},
   "source": [
    "Remember that when training a model, **you should only use the training data!** The test set is reserved exclusively for evaluating your model. Now let's use the classifier:"
   ]
  },
  {
   "cell_type": "code",
   "execution_count": 12,
   "metadata": {},
   "outputs": [],
   "source": [
    "# code\n",
    "lr = LogisticRegression(random_state=0, solver='liblinear')\n",
    "lr.fit(x_train, y_train)\n",
    "pred_scores = lr.predict_proba(x_test)"
   ]
  },
  {
   "cell_type": "code",
   "execution_count": 13,
   "metadata": {},
   "outputs": [
    {
     "data": {
      "text/plain": [
       "array([[0.76097501, 0.23902499],\n",
       "       [0.8195065 , 0.1804935 ],\n",
       "       [0.78648084, 0.21351916],\n",
       "       ...,\n",
       "       [0.75978489, 0.24021511],\n",
       "       [0.7969271 , 0.2030729 ],\n",
       "       [0.78757567, 0.21242433]])"
      ]
     },
     "execution_count": 13,
     "metadata": {},
     "output_type": "execute_result"
    }
   ],
   "source": [
    "pred_scores"
   ]
  },
  {
   "cell_type": "markdown",
   "metadata": {},
   "source": [
    "## Logistic Regression Tasks:\n",
    "\n",
    "The goal here is to explore different penalty parameters and different C values. You can also try modofyinfg other parameters to see their impact. How does accuracy change, using different thresholds, as you vary penalty and C values? You can write a nested for loop that loops over all the parameters and values and store the results in a data frame (similar to last lab)"
   ]
  },
  {
   "cell_type": "markdown",
   "metadata": {
    "collapsed": true
   },
   "source": [
    "Ref: http://scikit-learn.org/stable/modules/generated/sklearn.linear_model.LogisticRegression.html\n",
    "\n",
    "You'll notice that LogisticRegression takes a ton of parameters. We'll play around with the \"penalty\" and \"C\" parameters.\n",
    "If we set the penalty parameter to ['l2'](http://mathworld.wolfram.com/L2-Norm.html), sklearn's LogisticRegression model solves the following minimization problem:\n",
    "\n",
    "$$ \\min_{\\beta} ||\\beta||_2 + C \\sum_{i} \\log ( -y_i (X_i^T \\beta) +1)$$\n",
    "\n",
    "Similarly, if we set the penalty parameter to ['l1'](http://mathworld.wolfram.com/L2-Norm.html), LogisticRegression will solve the following minimization problem:\n",
    "\n",
    "$$\\min_{\\beta} ||\\beta||_1 + C \\sum_{i} \\log ( -y_i (X_i^T \\beta) +1)$$\n",
    "\n",
    "where $$||\\beta||_2 = \\sqrt { \\sum_{i} \\beta_i^2 }$$ and $$||\\beta||_1 =  \\sum_{i} | \\beta_i | $$ \n",
    "\n",
    "Try running logistic regression with both L1 and L2 penalties and a mix of C values. Something like $10^{-2}, 10^{-1}, 1, 10, 10^2)$ is reasonable."
   ]
  },
  {
   "cell_type": "code",
   "execution_count": 14,
   "metadata": {},
   "outputs": [
    {
     "name": "stdout",
     "output_type": "stream",
     "text": [
      "The true number of HBP is 549/2602 from the data, with percentage 21.10%\n",
      "\n",
      "(Threshold: 0.1), the total number of predicted HBP is 2545, the accuracy is 0.23\n",
      "(Threshold: 0.2), the total number of predicted HBP is 1538, the accuracy is 0.49\n",
      "(Threshold: 0.25), the total number of predicted HBP is 559, the accuracy is 0.71\n",
      "(Threshold: 0.3), the total number of predicted HBP is 296, the accuracy is 0.76\n",
      "(Threshold: 0.35), the total number of predicted HBP is 241, the accuracy is 0.77\n",
      "(Threshold: 0.4), the total number of predicted HBP is 29, the accuracy is 0.79\n",
      "(Threshold: 0.5), the total number of predicted HBP is 0, the accuracy is 0.79\n",
      "(Threshold: 0.6), the total number of predicted HBP is 0, the accuracy is 0.79\n",
      "(Threshold: 0.7), the total number of predicted HBP is 0, the accuracy is 0.79\n"
     ]
    }
   ],
   "source": [
    "# code\n",
    "\n",
    "# we first choose a threshold to determine the pridiction \n",
    "print(\"The true number of HBP is {}/{} from the data, with percentage {:.2f}%\\n\".format(\n",
    "    sum(y_test), len(y_test), 100.*sum(y_test)/len(y_test)))\n",
    "for threshold in [0.1, 0.2, 0.25, 0.3, 0.35, 0.4, 0.5, 0.6, 0.7]:\n",
    "    pred_label = [1 if x[1]>threshold else 0 for x in pred_scores]\n",
    "    print(\"(Threshold: {}), the total number of predicted HBP is {}, the accuracy is {:.2f}\".format(\n",
    "        threshold, sum(pred_label), accuracy(pred_label,y_test)))"
   ]
  },
  {
   "cell_type": "markdown",
   "metadata": {},
   "source": [
    "## Understanding what's going on inside Logistic Regression"
   ]
  },
  {
   "cell_type": "markdown",
   "metadata": {},
   "source": [
    "To really see the difference between L1 and L2 regularization, we need to take a closer look at the models they produced. Plot a histogram of the weight values of LogisticRegression models for each C value. You can access these weight coefficients via the coef\\_ attribute in LogisticRegression. Do you notice anything interesting happening as the C value varies?"
   ]
  },
  {
   "cell_type": "code",
   "execution_count": 16,
   "metadata": {},
   "outputs": [
    {
     "name": "stderr",
     "output_type": "stream",
     "text": [
      "\r",
      "  0%|                                                                      | 0/2 [00:00<?, ?it/s]"
     ]
    },
    {
     "name": "stdout",
     "output_type": "stream",
     "text": [
      "reg: l1 | C: 0.01 | total HBP predicted: 461 | accuracy is 0.72\n",
      "reg: l1 | C: 0.1 | total HBP predicted: 320 | accuracy is 0.76\n",
      "reg: l1 | C: 1 | total HBP predicted: 297 | accuracy is 0.76\n",
      "reg: l1 | C: 10 | total HBP predicted: 294 | accuracy is 0.76\n",
      "reg: l1 | C: 100 | total HBP predicted: 294 | accuracy is 0.76\n"
     ]
    },
    {
     "name": "stderr",
     "output_type": "stream",
     "text": [
      "\r",
      " 50%|███████████████████████████████                               | 1/2 [00:01<00:01,  1.23s/it]"
     ]
    },
    {
     "name": "stdout",
     "output_type": "stream",
     "text": [
      "reg: l2 | C: 0.01 | total HBP predicted: 316 | accuracy is 0.76\n",
      "reg: l2 | C: 0.1 | total HBP predicted: 297 | accuracy is 0.76\n",
      "reg: l2 | C: 1 | total HBP predicted: 296 | accuracy is 0.76\n",
      "reg: l2 | C: 10 | total HBP predicted: 294 | accuracy is 0.76\n",
      "reg: l2 | C: 100 | total HBP predicted: 294 | accuracy is 0.76\n"
     ]
    },
    {
     "name": "stderr",
     "output_type": "stream",
     "text": [
      "100%|██████████████████████████████████████████████████████████████| 2/2 [00:01<00:00,  1.11it/s]\n"
     ]
    }
   ],
   "source": [
    "# code\n",
    "threshold = 0.3\n",
    "penalties = ['l1', 'l2']\n",
    "c_values = [10**-2, 10**-1, 1 , 10, 10**2]\n",
    "\n",
    "for norm in tqdm(penalties):\n",
    "    for reg_strength in c_values:\n",
    "        lrf = LogisticRegression(random_state=0, solver='liblinear', penalty=norm, C=reg_strength)\n",
    "        lrf.fit(x_train, y_train)\n",
    "        \n",
    "        pred_scores = lrf.predict_proba(x_test)\n",
    "        pred_label = [1 if x[1] >= threshold else 0 for x in pred_scores]\n",
    "        acc_score = accuracy(pred_label, y_test)\n",
    "        \n",
    "        print('reg: {} | C: {} | total HBP predicted: {} | accuracy is {:.2f}'.format(norm, reg_strength, sum(pred_label), acc_score))"
   ]
  },
  {
   "cell_type": "code",
   "execution_count": 19,
   "metadata": {},
   "outputs": [
    {
     "name": "stderr",
     "output_type": "stream",
     "text": [
      "100%|██████████████████████████████████████████████████████████████| 2/2 [00:01<00:00,  1.10it/s]\n"
     ]
    }
   ],
   "source": [
    "# code\n",
    "coefs = []\n",
    "\n",
    "penalties = ['l1', 'l2']\n",
    "c_values = [10**-2, 10**-1, 1 , 10, 10**2]\n",
    "threshold = 0.3\n",
    "\n",
    "for norm in tqdm(penalties):\n",
    "    coef = []\n",
    "    for reg_strength in c_values:\n",
    "        lrf = LogisticRegression(random_state=0, solver='liblinear', penalty=norm, C=reg_strength).fit(x_train, y_train)\n",
    "        pred_scores = lrf.predict_proba(x_test)\n",
    "        pred_label = [1 if x[1]>threshold else 0 for x in pred_scores]\n",
    "        coef.append(lrf.coef_)\n",
    "        \n",
    "    coefs.append(coef)"
   ]
  },
  {
   "cell_type": "code",
   "execution_count": 22,
   "metadata": {},
   "outputs": [
    {
     "name": "stderr",
     "output_type": "stream",
     "text": [
      "\r",
      "  0%|                                                                      | 0/2 [00:00<?, ?it/s]"
     ]
    },
    {
     "data": {
      "image/png": "[encoded data removed]",
      "text/plain": [
       "<Figure size 432x288 with 1 Axes>"
      ]
     },
     "metadata": {
      "needs_background": "light"
     },
     "output_type": "display_data"
    },
    {
     "data": {
      "image/png": "[encoded data removed]",
      "text/plain": [
       "<Figure size 432x288 with 1 Axes>"
      ]
     },
     "metadata": {
      "needs_background": "light"
     },
     "output_type": "display_data"
    },
    {
     "data": {
      "image/png": "[encoded data removed]",
      "text/plain": [
       "<Figure size 432x288 with 1 Axes>"
      ]
     },
     "metadata": {
      "needs_background": "light"
     },
     "output_type": "display_data"
    },
    {
     "data": {
      "image/png": "[encoded data removed]",
      "text/plain": [
       "<Figure size 432x288 with 1 Axes>"
      ]
     },
     "metadata": {
      "needs_background": "light"
     },
     "output_type": "display_data"
    },
    {
     "data": {
      "image/png": "[encoded data removed]",
      "text/plain": [
       "<Figure size 432x288 with 1 Axes>"
      ]
     },
     "metadata": {
      "needs_background": "light"
     },
     "output_type": "display_data"
    },
    {
     "name": "stderr",
     "output_type": "stream",
     "text": [
      "\r",
      " 50%|███████████████████████████████                               | 1/2 [00:11<00:11, 11.20s/it]"
     ]
    },
    {
     "data": {
      "image/png": "[encoded data removed]",
      "text/plain": [
       "<Figure size 432x288 with 1 Axes>"
      ]
     },
     "metadata": {
      "needs_background": "light"
     },
     "output_type": "display_data"
    },
    {
     "data": {
      "image/png": "[encoded data removed]",
      "text/plain": [
       "<Figure size 432x288 with 1 Axes>"
      ]
     },
     "metadata": {
      "needs_background": "light"
     },
     "output_type": "display_data"
    },
    {
     "data": {
      "image/png": "[encoded data removed]",
      "text/plain": [
       "<Figure size 432x288 with 1 Axes>"
      ]
     },
     "metadata": {
      "needs_background": "light"
     },
     "output_type": "display_data"
    },
    {
     "data": {
      "image/png": "[encoded data removed]",
      "text/plain": [
       "<Figure size 432x288 with 1 Axes>"
      ]
     },
     "metadata": {
      "needs_background": "light"
     },
     "output_type": "display_data"
    },
    {
     "data": {
      "image/png": "[encoded data removed]",
      "text/plain": [
       "<Figure size 432x288 with 1 Axes>"
      ]
     },
     "metadata": {
      "needs_background": "light"
     },
     "output_type": "display_data"
    },
    {
     "name": "stderr",
     "output_type": "stream",
     "text": [
      "100%|██████████████████████████████████████████████████████████████| 2/2 [00:22<00:00, 11.36s/it]\n"
     ]
    }
   ],
   "source": [
    "for p_idx in tqdm(range(len(penalties))):\n",
    "    for c_idx in range(len(c_values)):\n",
    "        plt.hist(coefs[p_idx][c_idx], bins = 30)\n",
    "        plt.title('Logistic Regression with %s penalty, C = %.2f' %(penalties[p_idx], c_values[c_idx]))\n",
    "        plt.xlabel('Weight values')\n",
    "        plt.ylabel('Frequency')\n",
    "        plt.show()"
   ]
  },
  {
   "cell_type": "markdown",
   "metadata": {},
   "source": [
    "As \"C\" increases, so does the relative weight of the negative log likelihood of the model. Lower \"C\" gives a higher relative weight to the L1/L2 penalty."
   ]
  },
  {
   "cell_type": "markdown",
   "metadata": {},
   "source": [
    "# Support Vector Machines"
   ]
  },
  {
   "cell_type": "markdown",
   "metadata": {},
   "source": [
    "Ref: https://scikit-learn.org/stable/modules/generated/sklearn.svm.LinearSVC.html#sklearn.svm.LinearSVC\n",
    "The SVM Classifier also takes quite a few parameters. For now we will use Linear SVMs. The model is called LinearSVC in sklearn.\n",
    "\n",
    "We will be playing with following parameters:\n",
    "* C: same as above\n",
    "\n",
    "SVM tries to find the hyperplane that maximizes the \"margin\" between the two classes of points. The \"C\" parameter in [SVC](http://scikit-learn.org/stable/modules/generated/sklearn.svm.SVC.html#sklearn.svm.SVC) has the same role as the \"C\" parameter in LogisticRegression: it tells you how much to penalize the \"size\" of the weight vector. Note that SVC only allows for L2 regularization.\n",
    "\n"
   ]
  },
  {
   "cell_type": "markdown",
   "metadata": {},
   "source": [
    "### Let's fit an SVM"
   ]
  },
  {
   "cell_type": "code",
   "execution_count": 25,
   "metadata": {},
   "outputs": [
    {
     "name": "stdout",
     "output_type": "stream",
     "text": [
      "[-0.51919769 -0.63441732 -0.56730215 -0.67288028 -0.67575511 -0.66442708\n",
      " -0.70986653 -0.69246913 -0.69234445 -0.30610334]\n",
      "the average of the confidence score is: -0.57\n"
     ]
    }
   ],
   "source": [
    "svm = LinearSVC(random_state=0, tol=1e-5)\n",
    "svm.fit(x_train, y_train)\n",
    "\n",
    "# confidence score is the signed distance of the point to the hyperplane\n",
    "confidence_score = svm.decision_function(x_test)\n",
    "print(confidence_score[:10])\n",
    "print(\"the average of the confidence score is: %.2f\" % confidence_score.mean())"
   ]
  },
  {
   "cell_type": "code",
   "execution_count": 24,
   "metadata": {},
   "outputs": [
    {
     "data": {
      "text/plain": [
       "array([-0.51919769, -0.63441732, -0.56730215, ..., -0.51632287,\n",
       "       -0.58631286, -0.57017698])"
      ]
     },
     "execution_count": 24,
     "metadata": {},
     "output_type": "execute_result"
    }
   ],
   "source": [
    "svm.decision_function(x_test)"
   ]
  },
  {
   "cell_type": "markdown",
   "metadata": {},
   "source": [
    "### Now predict scores on the test set and plot the distribution of scores\n",
    "You might notice that the function you've been using to predict so far does not work. Is another function you need to use? Which one? Why?"
   ]
  },
  {
   "cell_type": "code",
   "execution_count": 26,
   "metadata": {},
   "outputs": [
    {
     "name": "stdout",
     "output_type": "stream",
     "text": [
      "The true number of HBP is 549/2602 from the data, with percentage 21.10%\n",
      "\n"
     ]
    },
    {
     "name": "stderr",
     "output_type": "stream",
     "text": [
      "\r",
      "  0%|                                                                     | 0/11 [00:00<?, ?it/s]"
     ]
    },
    {
     "name": "stdout",
     "output_type": "stream",
     "text": [
      "Threshold: -1 | total predicted HBP is 2602 | accuracy is 0.21\n",
      "Threshold: -0.9 | total predicted HBP is 2597 | accuracy is 0.21\n",
      "Threshold: -0.8 | total predicted HBP is 2479 | accuracy is 0.25\n",
      "Threshold: -0.7 | total predicted HBP is 2079 | accuracy is 0.36\n",
      "Threshold: -0.6 | total predicted HBP is 1596 | accuracy is 0.48\n",
      "Threshold: -0.5 | total predicted HBP is 596 | accuracy is 0.70\n",
      "Threshold: -0.4 | total predicted HBP is 362 | accuracy is 0.75\n",
      "Threshold: -0.3 | total predicted HBP is 203 | accuracy is 0.77\n",
      "Threshold: -0.2 | total predicted HBP is 22 | accuracy is 0.79\n"
     ]
    },
    {
     "name": "stderr",
     "output_type": "stream",
     "text": [
      "\r",
      " 82%|█████████████████████████████████████████████████▉           | 9/11 [00:00<00:00, 61.61it/s]"
     ]
    },
    {
     "name": "stdout",
     "output_type": "stream",
     "text": [
      "Threshold: -0.1 | total predicted HBP is 0 | accuracy is 0.79\n",
      "Threshold: 0 | total predicted HBP is 0 | accuracy is 0.79\n"
     ]
    },
    {
     "name": "stderr",
     "output_type": "stream",
     "text": [
      "100%|████████████████████████████████████████████████████████████| 11/11 [00:00<00:00, 69.08it/s]\n"
     ]
    }
   ],
   "source": [
    "print(\"The true number of HBP is {}/{} from the data, with percentage {:.2f}%\\n\".format(\n",
    "    sum(y_test), len(y_test), 100.*sum(y_test)/len(y_test)))\n",
    "\n",
    "for threshold in tqdm([-1, -0.9, -0.8, -0.7, -0.6, -0.5, -0.4, -0.3, -0.2, -0.1, 0]):\n",
    "    pred_label = [1 if x >threshold else 0 for x in confidence_score]\n",
    "    acc_score = accuracy(pred_label, y_test)\n",
    "    print(\"Threshold: {} | total predicted HBP is {} | accuracy is {:.2f}\".format(threshold, sum(pred_label), acc_score))"
   ]
  },
  {
   "cell_type": "markdown",
   "metadata": {},
   "source": [
    "### now we can select a threshold and calculate accuracy"
   ]
  },
  {
   "cell_type": "markdown",
   "metadata": {
    "collapsed": true
   },
   "source": [
    "choose threshold -0.4 which gives us a number closer to the actual HBP in the population"
   ]
  },
  {
   "cell_type": "markdown",
   "metadata": {},
   "source": [
    "### Let's now vary values of C and see the results."
   ]
  },
  {
   "cell_type": "code",
   "execution_count": 29,
   "metadata": {},
   "outputs": [
    {
     "name": "stderr",
     "output_type": "stream",
     "text": [
      "\r",
      "  0%|                                                                      | 0/5 [00:00<?, ?it/s]"
     ]
    },
    {
     "name": "stdout",
     "output_type": "stream",
     "text": [
      "C: 0.01 | total predicted HBP is 367 | accuracy is 0.75\n",
      "C: 0.1 | total predicted HBP is 362 | accuracy is 0.75\n",
      "C: 1 | total predicted HBP is 362 | accuracy is 0.75\n"
     ]
    },
    {
     "name": "stderr",
     "output_type": "stream",
     "text": [
      " 60%|█████████████████████████████████████▏                        | 3/5 [00:00<00:00,  8.62it/s]C:\\cygwin64\\home\\darsh\\Continuum\\Anaconda3\\lib\\site-packages\\sklearn\\svm\\base.py:929: ConvergenceWarning: Liblinear failed to converge, increase the number of iterations.\n",
      "  \"the number of iterations.\", ConvergenceWarning)\n"
     ]
    },
    {
     "name": "stdout",
     "output_type": "stream",
     "text": [
      "C: 10 | total predicted HBP is 362 | accuracy is 0.75\n"
     ]
    },
    {
     "name": "stderr",
     "output_type": "stream",
     "text": [
      " 80%|█████████████████████████████████████████████████▌            | 4/5 [00:01<00:00,  1.94it/s]C:\\cygwin64\\home\\darsh\\Continuum\\Anaconda3\\lib\\site-packages\\sklearn\\svm\\base.py:929: ConvergenceWarning: Liblinear failed to converge, increase the number of iterations.\n",
      "  \"the number of iterations.\", ConvergenceWarning)\n"
     ]
    },
    {
     "name": "stdout",
     "output_type": "stream",
     "text": [
      "C: 100 | total predicted HBP is 352 | accuracy is 0.75\n"
     ]
    },
    {
     "name": "stderr",
     "output_type": "stream",
     "text": [
      "100%|██████████████████████████████████████████████████████████████| 5/5 [00:03<00:00,  1.23it/s]\n"
     ]
    }
   ],
   "source": [
    "threshold = -0.4\n",
    "c_values = [10**-2, 10**-1, 1 , 10, 10**2]\n",
    "\n",
    "for c_value in tqdm(c_values):\n",
    "    svm = LinearSVC(random_state=0, tol=1e-5, C=c_value, max_iter=2000).fit(x_train, y_train)\n",
    "    confidence_score = svm.decision_function(x_test)\n",
    "    pred_label = [1 if x > threshold else 0 for x in confidence_score]\n",
    "    \n",
    "    acc_score = accuracy(pred_label, y_test)\n",
    "    print(\"C: {} | total predicted HBP is {} | accuracy is {:.2f}\".format(c_value, sum(pred_label), acc_score))"
   ]
  },
  {
   "cell_type": "markdown",
   "metadata": {},
   "source": [
    "# Evaluation Metrics"
   ]
  },
  {
   "cell_type": "markdown",
   "metadata": {},
   "source": [
    "We covered several evaluation metrics in class:\n",
    "    - accuracy\n",
    "    - precision\n",
    "    - recall\n",
    "    - area under curve\n",
    "    - ROC curves\n",
    "    \n",
    "Although sklearn has built-in functions to calculate these metrics,\n",
    "in this lab we want to give you an understanding of these metrics \n",
    "by writing functions to calculate them yourself.\n",
    "\n",
    "Remember that accuracy, precision, and recall are calculated at a specific threshold for turning scores into 0 and 1.\n"
   ]
  },
  {
   "cell_type": "markdown",
   "metadata": {},
   "source": [
    "### Set Threshold\n"
   ]
  },
  {
   "cell_type": "code",
   "execution_count": null,
   "metadata": {
    "collapsed": true
   },
   "outputs": [],
   "source": [
    "threshold = -0.4"
   ]
  },
  {
   "cell_type": "markdown",
   "metadata": {},
   "source": [
    "### We will first create a confusion matrix based on this threshold"
   ]
  },
  {
   "cell_type": "code",
   "execution_count": 36,
   "metadata": {},
   "outputs": [],
   "source": [
    "svm = LinearSVC(random_state=0, tol=1e-5).fit(x_train, y_train)\n",
    "confidence_score = svm.decision_function(x_test)\n",
    "pred_label = [1 if x > threshold else 0 for x in confidence_score]\n",
    "\n",
    "c = confusion_matrix(y_test, pred_label)\n",
    "true_negatives, false_positive, false_negatives, true_positives = c.ravel()\n",
    "\n",
    "# true_positives\n",
    "# false_positive\n",
    "# true_negatives\n",
    "# false_negatives"
   ]
  },
  {
   "cell_type": "markdown",
   "metadata": {},
   "source": [
    "### Let's now write functions that can calculate each metric"
   ]
  },
  {
   "cell_type": "code",
   "execution_count": 37,
   "metadata": {},
   "outputs": [],
   "source": [
    "def calculate_confusion_matrix(predicted_scores, true_labels, threshold):\n",
    "    pred_label = [1 if x > threshold else 0 for x in predicted_scores]\n",
    "    true_negatives, false_positive, false_negatives, true_positives = confusion_matrix(true_labels, pred_label).ravel()\n",
    "    return true_negatives, false_positive, false_negatives, true_positives\n",
    "\n",
    "def calculate_accuracy_at_threshold(predicted_scores, true_labels, threshold):\n",
    "    tn, fp, fn, tp = calculate_confusion_matrix(predicted_scores, true_labels, threshold)\n",
    "    return 1.0 * (tp + tn) / (tn + fp + fn + tp)\n",
    "\n",
    "def calculate_precision_at_threshold(predicted_scores, true_labels, threshold):\n",
    "    tn, fp, fn, tp = calculate_confusion_matrix(predicted_scores, true_labels, threshold)\n",
    "    return 1.0 * (tp) / (fp + tp)\n",
    "\n",
    "def calculate_recall_at_threshold(predicted_scores, true_labels, threshold):\n",
    "    tn, fp, fn, tp = calculate_confusion_matrix(predicted_scores, true_labels, threshold)\n",
    "    return 1.0 * (tp) / (fn + tp)"
   ]
  },
  {
   "cell_type": "markdown",
   "metadata": {},
   "source": [
    "### Now let's calculate all of these for a logistic regression model you built above"
   ]
  },
  {
   "cell_type": "code",
   "execution_count": 38,
   "metadata": {},
   "outputs": [
    {
     "name": "stdout",
     "output_type": "stream",
     "text": [
      "The accuracy is 0.76\n",
      "The precision is 0.39\n",
      "The recall is 0.21\n"
     ]
    }
   ],
   "source": [
    "threshold = 0.3\n",
    "lrf = LogisticRegression(random_state=0, solver='liblinear').fit(x_train, y_train)\n",
    "predicted_scores = lrf.predict_proba(x_test)\n",
    "\n",
    "print(\"The accuracy is %.2f\" % calculate_accuracy_at_threshold(predicted_scores[:,1], y_test, threshold))\n",
    "print(\"The precision is %.2f\" % calculate_precision_at_threshold(predicted_scores[:,1], y_test, threshold))\n",
    "print(\"The recall is %.2f\" % calculate_recall_at_threshold(predicted_scores[:,1], y_test, threshold))"
   ]
  },
  {
   "cell_type": "markdown",
   "metadata": {},
   "source": [
    "### Now let's write a function that generates the precision, recall, k (% of population) graph that we covered in class\n",
    "<img src=\"../imgs/prk.png\">\n"
   ]
  },
  {
   "cell_type": "code",
   "execution_count": 39,
   "metadata": {},
   "outputs": [],
   "source": [
    "def plot_precision_recall_k(predicted_scores, true_labels):\n",
    "    precision, recall, thresholds = precision_recall_curve(true_labels, predicted_scores)\n",
    "    plt.plot(recall, precision, marker='.')\n",
    "    plt.show()"
   ]
  },
  {
   "cell_type": "markdown",
   "metadata": {},
   "source": [
    "### let's plot it for the same logistic regression model"
   ]
  },
  {
   "cell_type": "code",
   "execution_count": 40,
   "metadata": {},
   "outputs": [
    {
     "data": {
      "image/png": "[encoded data removed]",
      "text/plain": [
       "<Figure size 432x288 with 1 Axes>"
      ]
     },
     "metadata": {
      "needs_background": "light"
     },
     "output_type": "display_data"
    }
   ],
   "source": [
    "plot_precision_recall_k(predicted_scores[:,1], y_test)"
   ]
  },
  {
   "cell_type": "code",
   "execution_count": 46,
   "metadata": {},
   "outputs": [
    {
     "name": "stdout",
     "output_type": "stream",
     "text": [
      "[0.21107266 0.21076923 0.21085033 0.21101271 0.21109399 0.21117534\n",
      " 0.21212121 0.21245136 0.21253406 0.21269965 0.2128655  0.21294852\n",
      " 0.21311475 0.21344801 0.21397723 0.21406127 0.21414538 0.214342\n",
      " 0.21323236 0.21291866 0.21334399 0.21311475 0.2132     0.2133707\n",
      " 0.21345615 0.21362725 0.21371291 0.21379864 0.21397029 0.21391234\n",
      " 0.21399839 0.21434327 0.21442967 0.21451613 0.21460266 0.21428571\n",
      " 0.21437222 0.21524118 0.21492295 0.21501014 0.21518473 0.21524664\n",
      " 0.21533442 0.21542228 0.2155102  0.21487264 0.21496095 0.21504934\n",
      " 0.21522634 0.21540362 0.21549238 0.21588089 0.21623861 0.21641791\n",
      " 0.21650767 0.21659751 0.21777967 0.21787234 0.21805792 0.21815083\n",
      " 0.21781756 0.21791045 0.21800341 0.21935484 0.21944923 0.21963824\n",
      " 0.21973287 0.22077922 0.22097054 0.22116219 0.22149695 0.22159338\n",
      " 0.22135076 0.22586521 0.22771363 0.22937063 0.22947761 0.22958469\n",
      " 0.23109641 0.23142451 0.23153409 0.23164377 0.23135755 0.23180077\n",
      " 0.23339941 0.23313492 0.23325062 0.23348236 0.23356574 0.23318386\n",
      " 0.2333001  0.23341646 0.2335     0.23311656 0.23323323 0.23331661\n",
      " 0.23355098 0.23383838 0.23443038 0.23454914 0.23571429 0.23532414\n",
      " 0.23556464 0.23517382 0.23529412 0.23578077 0.23614707 0.23626943\n",
      " 0.23587351 0.23449001 0.2365416  0.23667029 0.23638344 0.2368709\n",
      " 0.23700055 0.23713034 0.24075128 0.24088838 0.24321133 0.24305145\n",
      " 0.24332344 0.24346793 0.2436126  0.24375743 0.24390244 0.24403341\n",
      " 0.24416517 0.24445776 0.24338942 0.24368231 0.24382902 0.24412297\n",
      " 0.24424242 0.24453883 0.24468731 0.2449848  0.24556032 0.24571078\n",
      " 0.24661747 0.24630542 0.24584104 0.2459926  0.24614436 0.24583076\n",
      " 0.2450495  0.24535316 0.24503722 0.24518932 0.24564677 0.24579963\n",
      " 0.24595268 0.24610592 0.2462406  0.24685139 0.24700693 0.2466877\n",
      " 0.24636766 0.24667932 0.24683544 0.24699177 0.24839949 0.2503251\n",
      " 0.25081433 0.25130548 0.25146963 0.25336022 0.25414365 0.25431928\n",
      " 0.25449516 0.25864553 0.25883201 0.25714286 0.25752018 0.25754231\n",
      " 0.25773196 0.25887574 0.25832717 0.25851852 0.25871016 0.26877133\n",
      " 0.27772512 0.27904762 0.2784689  0.27745665 0.27826087 0.27852998\n",
      " 0.27906977 0.27988338 0.28042843 0.28070175 0.28125    0.28011753\n",
      " 0.27521008 0.27549947 0.28219485 0.28139013 0.28170595 0.28202247\n",
      " 0.28297632 0.28329571 0.29119318 0.29327611 0.31623932 0.31506849\n",
      " 0.31873905 0.31754386 0.31842576 0.32014388 0.31891892 0.31818182\n",
      " 0.31809872 0.31860037 0.32037037 0.31910946 0.3197026  0.31902985\n",
      " 0.31826742 0.31818182 0.31548757 0.3172147  0.31782946 0.31968811\n",
      " 0.3203125  0.32283465 0.32595573 0.3266129  0.32926829 0.32848233\n",
      " 0.33054393 0.33122363 0.33410673 0.33990148 0.34933333 0.35082873\n",
      " 0.35180055 0.34818942 0.35014006 0.35211268 0.35714286 0.35816619\n",
      " 0.37267081 0.38383838 0.38513514 0.38644068 0.3877551  0.3890785\n",
      " 0.38831615 0.38754325 0.3902439  0.39298246 0.39575972 0.39716312\n",
      " 0.4        0.40143369 0.4028777  0.40072202 0.40510949 0.4029304\n",
      " 0.38721805 0.38223938 0.39834025 0.4        0.40196078 0.40394089\n",
      " 0.39896373 0.39790576 0.41891892 0.42592593 0.42990654 0.41904762\n",
      " 0.42307692 0.42718447 0.4        0.41860465 0.36538462 0.37254902\n",
      " 0.34482759 0.35714286 0.4        0.39130435 0.40909091 0.45\n",
      " 0.46153846 0.375      0.33333333 1.        ] \n",
      "\n",
      "[1.         0.99817851 0.99817851 0.99817851 0.99817851 0.99817851\n",
      " 0.99453552 0.99453552 0.99453552 0.99453552 0.99453552 0.99453552\n",
      " 0.99453552 0.99453552 0.99271403 0.99271403 0.99271403 0.99089253\n",
      " 0.97449909 0.9726776  0.9726776  0.9708561  0.9708561  0.9708561\n",
      " 0.9708561  0.9708561  0.9708561  0.9708561  0.9708561  0.96903461\n",
      " 0.96903461 0.96903461 0.96903461 0.96903461 0.96903461 0.96721311\n",
      " 0.96721311 0.96721311 0.96539162 0.96539162 0.96539162 0.96174863\n",
      " 0.96174863 0.96174863 0.96174863 0.95264117 0.95264117 0.95264117\n",
      " 0.95264117 0.95264117 0.95264117 0.95081967 0.95081967 0.95081967\n",
      " 0.95081967 0.95081967 0.93260474 0.93260474 0.93260474 0.93260474\n",
      " 0.93078324 0.93078324 0.93078324 0.92896175 0.92896175 0.92896175\n",
      " 0.92896175 0.92896175 0.92896175 0.92896175 0.92714026 0.92714026\n",
      " 0.92531876 0.90346084 0.89799636 0.89617486 0.89617486 0.89617486\n",
      " 0.89071038 0.89071038 0.89071038 0.89071038 0.88160291 0.88160291\n",
      " 0.8579235  0.856102   0.856102   0.856102   0.85428051 0.85245902\n",
      " 0.85245902 0.85245902 0.85063752 0.84881603 0.84881603 0.84699454\n",
      " 0.84699454 0.84335155 0.84335155 0.84335155 0.84153005 0.83970856\n",
      " 0.83970856 0.83788707 0.83788707 0.83060109 0.83060109 0.83060109\n",
      " 0.8287796  0.81238616 0.79234973 0.79234973 0.79052823 0.78870674\n",
      " 0.78870674 0.78870674 0.7704918  0.7704918  0.75045537 0.74863388\n",
      " 0.74681239 0.74681239 0.74681239 0.74681239 0.74681239 0.74499089\n",
      " 0.7431694  0.7431694  0.73770492 0.73770492 0.73770492 0.73770492\n",
      " 0.73406193 0.73406193 0.73406193 0.73406193 0.73041894 0.73041894\n",
      " 0.73041894 0.72859745 0.72677596 0.72677596 0.72677596 0.72495446\n",
      " 0.72131148 0.72131148 0.71948998 0.71948998 0.71948998 0.71948998\n",
      " 0.71948998 0.71948998 0.71584699 0.7140255  0.7140255  0.71220401\n",
      " 0.71038251 0.71038251 0.71038251 0.71038251 0.70673953 0.70127505\n",
      " 0.70127505 0.70127505 0.70127505 0.6867031  0.67030965 0.67030965\n",
      " 0.67030965 0.65391621 0.65391621 0.63934426 0.63934426 0.63752277\n",
      " 0.63752277 0.63752277 0.63570128 0.63570128 0.63570128 0.57377049\n",
      " 0.53369763 0.53369763 0.53005464 0.52459016 0.52459016 0.52459016\n",
      " 0.52459016 0.52459016 0.52459016 0.52459016 0.52459016 0.52094718\n",
      " 0.47723133 0.47723133 0.45901639 0.4571949  0.4571949  0.4571949\n",
      " 0.4571949  0.4571949  0.37340619 0.37340619 0.33697632 0.33515483\n",
      " 0.33151184 0.32969035 0.32422587 0.32422587 0.32240437 0.31876138\n",
      " 0.31693989 0.3151184  0.3151184  0.3132969  0.3132969  0.31147541\n",
      " 0.30783242 0.30601093 0.30054645 0.29872495 0.29872495 0.29872495\n",
      " 0.29872495 0.29872495 0.29508197 0.29508197 0.29508197 0.28779599\n",
      " 0.28779599 0.2859745  0.26229508 0.25136612 0.23861566 0.23132969\n",
      " 0.23132969 0.2276867  0.2276867  0.2276867  0.2276867  0.2276867\n",
      " 0.21857923 0.20765027 0.20765027 0.20765027 0.20765027 0.20765027\n",
      " 0.20582878 0.20400729 0.20400729 0.20400729 0.20400729 0.20400729\n",
      " 0.20400729 0.20400729 0.20400729 0.20218579 0.20218579 0.2003643\n",
      " 0.18761384 0.18032787 0.17486339 0.15664845 0.14936248 0.14936248\n",
      " 0.14025501 0.13843352 0.1129326  0.08378871 0.08378871 0.08014572\n",
      " 0.08014572 0.08014572 0.06921676 0.06557377 0.03460838 0.03460838\n",
      " 0.01821494 0.01821494 0.01821494 0.01639344 0.01639344 0.01639344\n",
      " 0.01092896 0.00546448 0.00182149 0.        ] \n",
      "\n",
      "[0.08381243 0.08507235 0.08581877 0.08626615 0.08632897 0.08751636\n",
      " 0.08828216 0.09013435 0.09139209 0.09573828 0.09770386 0.0981008\n",
      " 0.09845574 0.09854917 0.09903705 0.09912813 0.10047091 0.10133748\n",
      " 0.10136462 0.10188087 0.10245107 0.10546418 0.10779566 0.10849355\n",
      " 0.10976348 0.10981361 0.11040337 0.11091714 0.11094653 0.11159246\n",
      " 0.11282936 0.11296458 0.11348485 0.11610821 0.11664223 0.1166898\n",
      " 0.11767795 0.1191141  0.12127782 0.12170531 0.12181782 0.12334627\n",
      " 0.12438285 0.125096   0.12517306 0.12572543 0.12582637 0.1262187\n",
      " 0.12688703 0.12749662 0.12802861 0.12917246 0.12973974 0.12993837\n",
      " 0.13035969 0.1315293  0.13285513 0.13328006 0.13422869 0.13604852\n",
      " 0.13776528 0.13989573 0.14206881 0.14213135 0.1426175  0.14286682\n",
      " 0.14323703 0.14341807 0.14393661 0.14404049 0.14462435 0.14473796\n",
      " 0.14588917 0.14602032 0.14670496 0.14670639 0.14687406 0.14708341\n",
      " 0.14729776 0.14746742 0.14779854 0.14790473 0.14850153 0.14992836\n",
      " 0.14996635 0.15062955 0.15080091 0.15191516 0.15356489 0.1548326\n",
      " 0.15489974 0.15704511 0.1577004  0.15840111 0.15907329 0.15911316\n",
      " 0.16021656 0.16109736 0.16119252 0.16166776 0.16173729 0.16227782\n",
      " 0.16241336 0.16255499 0.16296653 0.16316775 0.16327964 0.16337708\n",
      " 0.16385949 0.16591322 0.16610015 0.16667452 0.16681912 0.16686213\n",
      " 0.16700686 0.16723929 0.16765846 0.16815097 0.16821714 0.17043835\n",
      " 0.17117386 0.17121614 0.17136387 0.17214501 0.17259918 0.17363375\n",
      " 0.17457297 0.17500858 0.17595365 0.17664018 0.17812668 0.17828076\n",
      " 0.17952935 0.17998019 0.1804935  0.18178858 0.18190853 0.18276216\n",
      " 0.18286733 0.18460066 0.18489267 0.1854032  0.18565825 0.18664782\n",
      " 0.18672696 0.18892044 0.18912741 0.18977768 0.19000576 0.19038842\n",
      " 0.19039063 0.19139951 0.19148019 0.19213224 0.19392717 0.1948976\n",
      " 0.19495027 0.19592458 0.19658939 0.19810241 0.1991421  0.20153146\n",
      " 0.2025846  0.20280279 0.2030729  0.20413203 0.20420888 0.20678719\n",
      " 0.20728448 0.20766162 0.20835984 0.20914071 0.20980001 0.21071181\n",
      " 0.21088495 0.21126689 0.21180019 0.21218335 0.21242433 0.21351916\n",
      " 0.21431414 0.21498531 0.21608973 0.21991634 0.22408146 0.22437506\n",
      " 0.2256049  0.22634063 0.22832518 0.22981582 0.2310666  0.23343228\n",
      " 0.23441632 0.23460314 0.23477465 0.23501525 0.23559059 0.23568705\n",
      " 0.23825258 0.23902499 0.24002521 0.24021511 0.24121874 0.24131677\n",
      " 0.24401931 0.24913148 0.25035537 0.25124367 0.25199341 0.25322662\n",
      " 0.25497521 0.256218   0.25711998 0.25788121 0.25803976 0.26113105\n",
      " 0.26222179 0.26285179 0.26401897 0.26411937 0.26422347 0.26529016\n",
      " 0.26587921 0.26715609 0.26890209 0.27018815 0.27029377 0.27137818\n",
      " 0.27336269 0.27870214 0.28001712 0.28497624 0.28630907 0.28754213\n",
      " 0.28826187 0.29022555 0.29157293 0.29466326 0.29602264 0.29665238\n",
      " 0.29801706 0.29811602 0.30143088 0.30258841 0.30617573 0.30960305\n",
      " 0.31302631 0.314857   0.31815883 0.3195775  0.31973059 0.32849281\n",
      " 0.3297259  0.33060326 0.33060643 0.33205357 0.33851187 0.34160131\n",
      " 0.3430719  0.34860703 0.35009175 0.35449428 0.35482846 0.35599038\n",
      " 0.35949215 0.3616192  0.36312844 0.36422248 0.36514495 0.3794725\n",
      " 0.38430799 0.39007413 0.39162928 0.39747383 0.39878963 0.39903918\n",
      " 0.40035672 0.41224618 0.41594392 0.4181869  0.4358137  0.4479695\n"
     ]
    },
    {
     "name": "stdout",
     "output_type": "stream",
     "text": [
      " 0.44958533 0.455647   0.45726758]\n"
     ]
    }
   ],
   "source": [
    "lrf = LogisticRegression(random_state=0, solver='liblinear').fit(x_train, y_train)\n",
    "predicted_scores = lrf.predict_proba(x_test)[:,1]\n",
    "precision, recall, thresholds = precision_recall_curve(y_test, predicted_scores)\n",
    "print(precision, '\\n')\n",
    "print(recall, '\\n')\n",
    "print(thresholds)"
   ]
  },
  {
   "cell_type": "markdown",
   "metadata": {},
   "source": [
    "### Now we build the same graph for an svm model and compare the two. Which one is better?"
   ]
  },
  {
   "cell_type": "code",
   "execution_count": 47,
   "metadata": {},
   "outputs": [
    {
     "data": {
      "text/plain": [
       "array([-0.51919769, -0.63441732, -0.56730215, ..., -0.51632287,\n",
       "       -0.58631286, -0.57017698])"
      ]
     },
     "execution_count": 47,
     "metadata": {},
     "output_type": "execute_result"
    }
   ],
   "source": [
    "svm = LinearSVC(random_state=0, tol=1e-5).fit(x_train, y_train)\n",
    "confidence_score = svm.decision_function(x_test)\n",
    "# plot_precision_recall_k(predicted_scores[:,1], y_test)\n",
    "confidence_score"
   ]
  },
  {
   "cell_type": "code",
   "execution_count": null,
   "metadata": {},
   "outputs": [],
   "source": []
  }
 ],
 "metadata": {
  "kernelspec": {
   "display_name": "Python 3",
   "language": "python",
   "name": "python3"
  },
  "language_info": {
   "codemirror_mode": {
    "name": "ipython",
    "version": 3
   },
   "file_extension": ".py",
   "mimetype": "text/x-python",
   "name": "python",
   "nbconvert_exporter": "python",
   "pygments_lexer": "ipython3",
   "version": "3.7.3"
  }
 },
 "nbformat": 4,
 "nbformat_minor": 2
}
