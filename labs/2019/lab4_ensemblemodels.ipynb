{
 "cells": [
  {
   "cell_type": "markdown",
   "metadata": {},
   "source": [
    "# Lab 4: Ensemble Models\n",
    "\n",
    "\n",
    "In this lab we'll get some hands on experience with ensemble classifiers we've seen in class\n"
   ]
  },
  {
   "cell_type": "markdown",
   "metadata": {},
   "source": [
    "## Goals for this lab\n",
    "\n",
    "- Understand the practical implications for changing the parameters used in ensemble models such as bagging, boosting, and random forests."
   ]
  },
  {
   "cell_type": "code",
   "execution_count": 13,
   "metadata": {},
   "outputs": [],
   "source": [
    "import matplotlib.pyplot as plt\n",
    "import numpy as np\n",
    "import pandas as pd\n",
    "from sklearn.ensemble import BaggingClassifier, AdaBoostClassifier, RandomForestClassifier\n",
    "from sklearn.model_selection import train_test_split\n",
    "from sklearn.metrics import accuracy_score as accuracy\n",
    "from sklearn.metrics import roc_curve, auc\n",
    "import graphviz # If you don't have this, install via pip/conda\n",
    "from sklearn.metrics import f1_score, precision_recall_curve\n",
    "from sklearn.linear_model import LogisticRegression\n",
    "\n",
    "from tqdm import tqdm\n",
    "import matplotlib.pyplot as plt\n",
    "%matplotlib inline\n",
    "\n",
    "# exercise: what additional modules should you import?"
   ]
  },
  {
   "cell_type": "markdown",
   "metadata": {},
   "source": [
    "# Data\n",
    "We'll continue to use the same data as in the previous lab.\n",
    "\n",
    "It is a subset of the data set from https://www.kaggle.com/new-york-state/nys-patient-characteristics-survey-pcs-2015\n",
    "\n",
    "The data has been downloaded, modified, and is in the github repo for the lab\n",
    "\n",
    "You should also try this with other data sets you have been provided for the homeworks."
   ]
  },
  {
   "cell_type": "code",
   "execution_count": 2,
   "metadata": {},
   "outputs": [],
   "source": [
    "# Change this to wherever you're storing your data\n",
    "datafile = '../data/nysmedicaldata.csv'\n",
    "df = pd.read_csv(datafile)"
   ]
  },
  {
   "cell_type": "code",
   "execution_count": 3,
   "metadata": {},
   "outputs": [
    {
     "data": {
      "text/html": [
       "<div>\n",
       "<style scoped>\n",
       "    .dataframe tbody tr th:only-of-type {\n",
       "        vertical-align: middle;\n",
       "    }\n",
       "\n",
       "    .dataframe tbody tr th {\n",
       "        vertical-align: top;\n",
       "    }\n",
       "\n",
       "    .dataframe thead th {\n",
       "        text-align: right;\n",
       "    }\n",
       "</style>\n",
       "<table border=\"1\" class=\"dataframe\">\n",
       "  <thead>\n",
       "    <tr style=\"text-align: right;\">\n",
       "      <th></th>\n",
       "      <th>Region Served</th>\n",
       "      <th>Age Group</th>\n",
       "      <th>Sex</th>\n",
       "      <th>Transgender</th>\n",
       "      <th>Sexual Orientation</th>\n",
       "      <th>Hispanic Ethnicity</th>\n",
       "      <th>Race</th>\n",
       "      <th>Living Situation</th>\n",
       "      <th>Household Composition</th>\n",
       "      <th>Preferred Language</th>\n",
       "      <th>...</th>\n",
       "      <th>No Insurance</th>\n",
       "      <th>Unknown Insurance Coverage</th>\n",
       "      <th>Medicaid Insurance</th>\n",
       "      <th>Medicaid Managed Insurance</th>\n",
       "      <th>Medicare Insurance</th>\n",
       "      <th>Private Insurance</th>\n",
       "      <th>Child Health Plus Insurance</th>\n",
       "      <th>Other Insurance</th>\n",
       "      <th>Criminal Justice Status</th>\n",
       "      <th>Three Digit Residence Zip Code</th>\n",
       "    </tr>\n",
       "  </thead>\n",
       "  <tbody>\n",
       "    <tr>\n",
       "      <th>0</th>\n",
       "      <td>HUDSON RIVER REGION</td>\n",
       "      <td>ADULT</td>\n",
       "      <td>MALE</td>\n",
       "      <td>NO, NOT TRANSGENDER</td>\n",
       "      <td>STRAIGHT OR HETEROSEXUAL</td>\n",
       "      <td>YES</td>\n",
       "      <td>OTHER</td>\n",
       "      <td>OTHER LIVING SITUATION</td>\n",
       "      <td>NOT APPLICABLE</td>\n",
       "      <td>ENGLISH</td>\n",
       "      <td>...</td>\n",
       "      <td>NO</td>\n",
       "      <td>NO</td>\n",
       "      <td>YES</td>\n",
       "      <td>NO</td>\n",
       "      <td>NO</td>\n",
       "      <td>NO</td>\n",
       "      <td>NO</td>\n",
       "      <td>NO</td>\n",
       "      <td>YES</td>\n",
       "      <td>113</td>\n",
       "    </tr>\n",
       "    <tr>\n",
       "      <th>1</th>\n",
       "      <td>NEW YORK CITY REGION</td>\n",
       "      <td>ADULT</td>\n",
       "      <td>MALE</td>\n",
       "      <td>NO, NOT TRANSGENDER</td>\n",
       "      <td>STRAIGHT OR HETEROSEXUAL</td>\n",
       "      <td>NO, NOT HISPANIC/LATINO</td>\n",
       "      <td>WHITE ONLY</td>\n",
       "      <td>INSTITUTIONAL SETTING</td>\n",
       "      <td>NOT APPLICABLE</td>\n",
       "      <td>ENGLISH</td>\n",
       "      <td>...</td>\n",
       "      <td>NO</td>\n",
       "      <td>NO</td>\n",
       "      <td>YES</td>\n",
       "      <td>NO</td>\n",
       "      <td>UNKNOWN</td>\n",
       "      <td>NO</td>\n",
       "      <td>NO</td>\n",
       "      <td>UNKNOWN</td>\n",
       "      <td>YES</td>\n",
       "      <td>113</td>\n",
       "    </tr>\n",
       "    <tr>\n",
       "      <th>2</th>\n",
       "      <td>HUDSON RIVER REGION</td>\n",
       "      <td>ADULT</td>\n",
       "      <td>MALE</td>\n",
       "      <td>NO, NOT TRANSGENDER</td>\n",
       "      <td>STRAIGHT OR HETEROSEXUAL</td>\n",
       "      <td>NO, NOT HISPANIC/LATINO</td>\n",
       "      <td>WHITE ONLY</td>\n",
       "      <td>PRIVATE RESIDENCE</td>\n",
       "      <td>COHABITATES WITH OTHERS</td>\n",
       "      <td>ENGLISH</td>\n",
       "      <td>...</td>\n",
       "      <td>NO</td>\n",
       "      <td>NO</td>\n",
       "      <td>YES</td>\n",
       "      <td>NO</td>\n",
       "      <td>NO</td>\n",
       "      <td>NO</td>\n",
       "      <td>NO</td>\n",
       "      <td>NO</td>\n",
       "      <td>YES</td>\n",
       "      <td>107</td>\n",
       "    </tr>\n",
       "    <tr>\n",
       "      <th>3</th>\n",
       "      <td>NEW YORK CITY REGION</td>\n",
       "      <td>ADULT</td>\n",
       "      <td>FEMALE</td>\n",
       "      <td>NO, NOT TRANSGENDER</td>\n",
       "      <td>STRAIGHT OR HETEROSEXUAL</td>\n",
       "      <td>NO, NOT HISPANIC/LATINO</td>\n",
       "      <td>OTHER</td>\n",
       "      <td>OTHER LIVING SITUATION</td>\n",
       "      <td>NOT APPLICABLE</td>\n",
       "      <td>ASIAN AND PACIFIC ISLAND</td>\n",
       "      <td>...</td>\n",
       "      <td>YES</td>\n",
       "      <td>NO</td>\n",
       "      <td>NO</td>\n",
       "      <td>NOT APPLICABLE</td>\n",
       "      <td>NO</td>\n",
       "      <td>NO</td>\n",
       "      <td>NO</td>\n",
       "      <td>NO</td>\n",
       "      <td>YES</td>\n",
       "      <td>888</td>\n",
       "    </tr>\n",
       "    <tr>\n",
       "      <th>4</th>\n",
       "      <td>LONG ISLAND REGION</td>\n",
       "      <td>ADULT</td>\n",
       "      <td>MALE</td>\n",
       "      <td>NO, NOT TRANSGENDER</td>\n",
       "      <td>STRAIGHT OR HETEROSEXUAL</td>\n",
       "      <td>NO, NOT HISPANIC/LATINO</td>\n",
       "      <td>BLACK ONLY</td>\n",
       "      <td>OTHER LIVING SITUATION</td>\n",
       "      <td>NOT APPLICABLE</td>\n",
       "      <td>ENGLISH</td>\n",
       "      <td>...</td>\n",
       "      <td>NO</td>\n",
       "      <td>NO</td>\n",
       "      <td>YES</td>\n",
       "      <td>UNKNOWN</td>\n",
       "      <td>YES</td>\n",
       "      <td>NO</td>\n",
       "      <td>NO</td>\n",
       "      <td>NO</td>\n",
       "      <td>NO</td>\n",
       "      <td>117</td>\n",
       "    </tr>\n",
       "  </tbody>\n",
       "</table>\n",
       "<p>5 rows × 65 columns</p>\n",
       "</div>"
      ],
      "text/plain": [
       "          Region Served Age Group     Sex          Transgender  \\\n",
       "0   HUDSON RIVER REGION     ADULT    MALE  NO, NOT TRANSGENDER   \n",
       "1  NEW YORK CITY REGION     ADULT    MALE  NO, NOT TRANSGENDER   \n",
       "2   HUDSON RIVER REGION     ADULT    MALE  NO, NOT TRANSGENDER   \n",
       "3  NEW YORK CITY REGION     ADULT  FEMALE  NO, NOT TRANSGENDER   \n",
       "4    LONG ISLAND REGION     ADULT    MALE  NO, NOT TRANSGENDER   \n",
       "\n",
       "         Sexual Orientation       Hispanic Ethnicity        Race  \\\n",
       "0  STRAIGHT OR HETEROSEXUAL                      YES       OTHER   \n",
       "1  STRAIGHT OR HETEROSEXUAL  NO, NOT HISPANIC/LATINO  WHITE ONLY   \n",
       "2  STRAIGHT OR HETEROSEXUAL  NO, NOT HISPANIC/LATINO  WHITE ONLY   \n",
       "3  STRAIGHT OR HETEROSEXUAL  NO, NOT HISPANIC/LATINO       OTHER   \n",
       "4  STRAIGHT OR HETEROSEXUAL  NO, NOT HISPANIC/LATINO  BLACK ONLY   \n",
       "\n",
       "         Living Situation    Household Composition        Preferred Language  \\\n",
       "0  OTHER LIVING SITUATION           NOT APPLICABLE                   ENGLISH   \n",
       "1   INSTITUTIONAL SETTING           NOT APPLICABLE                   ENGLISH   \n",
       "2       PRIVATE RESIDENCE  COHABITATES WITH OTHERS                   ENGLISH   \n",
       "3  OTHER LIVING SITUATION           NOT APPLICABLE  ASIAN AND PACIFIC ISLAND   \n",
       "4  OTHER LIVING SITUATION           NOT APPLICABLE                   ENGLISH   \n",
       "\n",
       "   ... No Insurance Unknown Insurance Coverage Medicaid Insurance  \\\n",
       "0  ...           NO                         NO                YES   \n",
       "1  ...           NO                         NO                YES   \n",
       "2  ...           NO                         NO                YES   \n",
       "3  ...          YES                         NO                 NO   \n",
       "4  ...           NO                         NO                YES   \n",
       "\n",
       "  Medicaid Managed Insurance Medicare Insurance Private Insurance  \\\n",
       "0                         NO                 NO                NO   \n",
       "1                         NO            UNKNOWN                NO   \n",
       "2                         NO                 NO                NO   \n",
       "3             NOT APPLICABLE                 NO                NO   \n",
       "4                    UNKNOWN                YES                NO   \n",
       "\n",
       "  Child Health Plus Insurance Other Insurance Criminal Justice Status  \\\n",
       "0                          NO              NO                     YES   \n",
       "1                          NO         UNKNOWN                     YES   \n",
       "2                          NO              NO                     YES   \n",
       "3                          NO              NO                     YES   \n",
       "4                          NO              NO                      NO   \n",
       "\n",
       "  Three Digit Residence Zip Code  \n",
       "0                            113  \n",
       "1                            113  \n",
       "2                            107  \n",
       "3                            888  \n",
       "4                            117  \n",
       "\n",
       "[5 rows x 65 columns]"
      ]
     },
     "execution_count": 3,
     "metadata": {},
     "output_type": "execute_result"
    }
   ],
   "source": [
    "df.head()"
   ]
  },
  {
   "cell_type": "markdown",
   "metadata": {},
   "source": [
    "## 1. Create label/outcome\n",
    "One thing we can do with this dataset is to try to use the various feature columns to classify whether a person has High Blood Pressure. Let's create a column that is 1 if a person has High Blood Pressure and 0 otherwise"
   ]
  },
  {
   "cell_type": "code",
   "execution_count": 4,
   "metadata": {},
   "outputs": [],
   "source": [
    "# code\n",
    "df['HBP'] = np.where(df['High Blood Pressure']==\"YES\", 1, 0)"
   ]
  },
  {
   "cell_type": "markdown",
   "metadata": {},
   "source": [
    "### Question: what percentage of people have High Blood Pressure?"
   ]
  },
  {
   "cell_type": "code",
   "execution_count": 5,
   "metadata": {},
   "outputs": [
    {
     "data": {
      "text/plain": [
       "0.21600738092492217"
      ]
     },
     "execution_count": 5,
     "metadata": {},
     "output_type": "execute_result"
    }
   ],
   "source": [
    "# code\n",
    "df['HBP'].mean()"
   ]
  },
  {
   "cell_type": "markdown",
   "metadata": {},
   "source": [
    "## 2. create or select existing predictors/features\n",
    "\n",
    "For now, let's take a handful of existing columns to use.\n",
    "\n",
    "sklearn needs features to be numeric and not categorical so we'll have to turn our selected features to be binary (also known as dummy variables)"
   ]
  },
  {
   "cell_type": "code",
   "execution_count": 6,
   "metadata": {},
   "outputs": [
    {
     "data": {
      "text/html": [
       "<div>\n",
       "<style scoped>\n",
       "    .dataframe tbody tr th:only-of-type {\n",
       "        vertical-align: middle;\n",
       "    }\n",
       "\n",
       "    .dataframe tbody tr th {\n",
       "        vertical-align: top;\n",
       "    }\n",
       "\n",
       "    .dataframe thead th {\n",
       "        text-align: right;\n",
       "    }\n",
       "</style>\n",
       "<table border=\"1\" class=\"dataframe\">\n",
       "  <thead>\n",
       "    <tr style=\"text-align: right;\">\n",
       "      <th></th>\n",
       "      <th>Region Served</th>\n",
       "      <th>Age Group</th>\n",
       "      <th>Transgender</th>\n",
       "      <th>Sexual Orientation</th>\n",
       "      <th>Hispanic Ethnicity</th>\n",
       "      <th>Living Situation</th>\n",
       "      <th>Household Composition</th>\n",
       "      <th>Preferred Language</th>\n",
       "      <th>Veteran Status</th>\n",
       "      <th>Employment Status</th>\n",
       "      <th>...</th>\n",
       "      <th>Drug Substance Disorder_YES</th>\n",
       "      <th>Drug Substance Disorder_nan</th>\n",
       "      <th>Criminal Justice Status_NO</th>\n",
       "      <th>Criminal Justice Status_UNKNOWN</th>\n",
       "      <th>Criminal Justice Status_YES</th>\n",
       "      <th>Criminal Justice Status_nan</th>\n",
       "      <th>Private Insurance_NO</th>\n",
       "      <th>Private Insurance_UNKNOWN</th>\n",
       "      <th>Private Insurance_YES</th>\n",
       "      <th>Private Insurance_nan</th>\n",
       "    </tr>\n",
       "  </thead>\n",
       "  <tbody>\n",
       "    <tr>\n",
       "      <th>0</th>\n",
       "      <td>HUDSON RIVER REGION</td>\n",
       "      <td>ADULT</td>\n",
       "      <td>NO, NOT TRANSGENDER</td>\n",
       "      <td>STRAIGHT OR HETEROSEXUAL</td>\n",
       "      <td>YES</td>\n",
       "      <td>OTHER LIVING SITUATION</td>\n",
       "      <td>NOT APPLICABLE</td>\n",
       "      <td>ENGLISH</td>\n",
       "      <td>NO</td>\n",
       "      <td>NOT IN LABOR FORCE:UNEMPLOYED AND NOT LOOKING ...</td>\n",
       "      <td>...</td>\n",
       "      <td>1</td>\n",
       "      <td>0</td>\n",
       "      <td>0</td>\n",
       "      <td>0</td>\n",
       "      <td>1</td>\n",
       "      <td>0</td>\n",
       "      <td>1</td>\n",
       "      <td>0</td>\n",
       "      <td>0</td>\n",
       "      <td>0</td>\n",
       "    </tr>\n",
       "    <tr>\n",
       "      <th>1</th>\n",
       "      <td>NEW YORK CITY REGION</td>\n",
       "      <td>ADULT</td>\n",
       "      <td>NO, NOT TRANSGENDER</td>\n",
       "      <td>STRAIGHT OR HETEROSEXUAL</td>\n",
       "      <td>NO, NOT HISPANIC/LATINO</td>\n",
       "      <td>INSTITUTIONAL SETTING</td>\n",
       "      <td>NOT APPLICABLE</td>\n",
       "      <td>ENGLISH</td>\n",
       "      <td>NO</td>\n",
       "      <td>NOT IN LABOR FORCE:UNEMPLOYED AND NOT LOOKING ...</td>\n",
       "      <td>...</td>\n",
       "      <td>1</td>\n",
       "      <td>0</td>\n",
       "      <td>0</td>\n",
       "      <td>0</td>\n",
       "      <td>1</td>\n",
       "      <td>0</td>\n",
       "      <td>1</td>\n",
       "      <td>0</td>\n",
       "      <td>0</td>\n",
       "      <td>0</td>\n",
       "    </tr>\n",
       "    <tr>\n",
       "      <th>2</th>\n",
       "      <td>HUDSON RIVER REGION</td>\n",
       "      <td>ADULT</td>\n",
       "      <td>NO, NOT TRANSGENDER</td>\n",
       "      <td>STRAIGHT OR HETEROSEXUAL</td>\n",
       "      <td>NO, NOT HISPANIC/LATINO</td>\n",
       "      <td>PRIVATE RESIDENCE</td>\n",
       "      <td>COHABITATES WITH OTHERS</td>\n",
       "      <td>ENGLISH</td>\n",
       "      <td>NO</td>\n",
       "      <td>NOT IN LABOR FORCE:UNEMPLOYED AND NOT LOOKING ...</td>\n",
       "      <td>...</td>\n",
       "      <td>0</td>\n",
       "      <td>0</td>\n",
       "      <td>0</td>\n",
       "      <td>0</td>\n",
       "      <td>1</td>\n",
       "      <td>0</td>\n",
       "      <td>1</td>\n",
       "      <td>0</td>\n",
       "      <td>0</td>\n",
       "      <td>0</td>\n",
       "    </tr>\n",
       "    <tr>\n",
       "      <th>3</th>\n",
       "      <td>NEW YORK CITY REGION</td>\n",
       "      <td>ADULT</td>\n",
       "      <td>NO, NOT TRANSGENDER</td>\n",
       "      <td>STRAIGHT OR HETEROSEXUAL</td>\n",
       "      <td>NO, NOT HISPANIC/LATINO</td>\n",
       "      <td>OTHER LIVING SITUATION</td>\n",
       "      <td>NOT APPLICABLE</td>\n",
       "      <td>ASIAN AND PACIFIC ISLAND</td>\n",
       "      <td>NO</td>\n",
       "      <td>NOT IN LABOR FORCE:UNEMPLOYED AND NOT LOOKING ...</td>\n",
       "      <td>...</td>\n",
       "      <td>0</td>\n",
       "      <td>0</td>\n",
       "      <td>0</td>\n",
       "      <td>0</td>\n",
       "      <td>1</td>\n",
       "      <td>0</td>\n",
       "      <td>1</td>\n",
       "      <td>0</td>\n",
       "      <td>0</td>\n",
       "      <td>0</td>\n",
       "    </tr>\n",
       "    <tr>\n",
       "      <th>4</th>\n",
       "      <td>LONG ISLAND REGION</td>\n",
       "      <td>ADULT</td>\n",
       "      <td>NO, NOT TRANSGENDER</td>\n",
       "      <td>STRAIGHT OR HETEROSEXUAL</td>\n",
       "      <td>NO, NOT HISPANIC/LATINO</td>\n",
       "      <td>OTHER LIVING SITUATION</td>\n",
       "      <td>NOT APPLICABLE</td>\n",
       "      <td>ENGLISH</td>\n",
       "      <td>NO</td>\n",
       "      <td>NOT IN LABOR FORCE:UNEMPLOYED AND NOT LOOKING ...</td>\n",
       "      <td>...</td>\n",
       "      <td>0</td>\n",
       "      <td>0</td>\n",
       "      <td>1</td>\n",
       "      <td>0</td>\n",
       "      <td>0</td>\n",
       "      <td>0</td>\n",
       "      <td>1</td>\n",
       "      <td>0</td>\n",
       "      <td>0</td>\n",
       "      <td>0</td>\n",
       "    </tr>\n",
       "  </tbody>\n",
       "</table>\n",
       "<p>5 rows × 91 columns</p>\n",
       "</div>"
      ],
      "text/plain": [
       "          Region Served Age Group          Transgender  \\\n",
       "0   HUDSON RIVER REGION     ADULT  NO, NOT TRANSGENDER   \n",
       "1  NEW YORK CITY REGION     ADULT  NO, NOT TRANSGENDER   \n",
       "2   HUDSON RIVER REGION     ADULT  NO, NOT TRANSGENDER   \n",
       "3  NEW YORK CITY REGION     ADULT  NO, NOT TRANSGENDER   \n",
       "4    LONG ISLAND REGION     ADULT  NO, NOT TRANSGENDER   \n",
       "\n",
       "         Sexual Orientation       Hispanic Ethnicity        Living Situation  \\\n",
       "0  STRAIGHT OR HETEROSEXUAL                      YES  OTHER LIVING SITUATION   \n",
       "1  STRAIGHT OR HETEROSEXUAL  NO, NOT HISPANIC/LATINO   INSTITUTIONAL SETTING   \n",
       "2  STRAIGHT OR HETEROSEXUAL  NO, NOT HISPANIC/LATINO       PRIVATE RESIDENCE   \n",
       "3  STRAIGHT OR HETEROSEXUAL  NO, NOT HISPANIC/LATINO  OTHER LIVING SITUATION   \n",
       "4  STRAIGHT OR HETEROSEXUAL  NO, NOT HISPANIC/LATINO  OTHER LIVING SITUATION   \n",
       "\n",
       "     Household Composition        Preferred Language Veteran Status  \\\n",
       "0           NOT APPLICABLE                   ENGLISH             NO   \n",
       "1           NOT APPLICABLE                   ENGLISH             NO   \n",
       "2  COHABITATES WITH OTHERS                   ENGLISH             NO   \n",
       "3           NOT APPLICABLE  ASIAN AND PACIFIC ISLAND             NO   \n",
       "4           NOT APPLICABLE                   ENGLISH             NO   \n",
       "\n",
       "                                   Employment Status  ...  \\\n",
       "0  NOT IN LABOR FORCE:UNEMPLOYED AND NOT LOOKING ...  ...   \n",
       "1  NOT IN LABOR FORCE:UNEMPLOYED AND NOT LOOKING ...  ...   \n",
       "2  NOT IN LABOR FORCE:UNEMPLOYED AND NOT LOOKING ...  ...   \n",
       "3  NOT IN LABOR FORCE:UNEMPLOYED AND NOT LOOKING ...  ...   \n",
       "4  NOT IN LABOR FORCE:UNEMPLOYED AND NOT LOOKING ...  ...   \n",
       "\n",
       "  Drug Substance Disorder_YES Drug Substance Disorder_nan  \\\n",
       "0                           1                           0   \n",
       "1                           1                           0   \n",
       "2                           0                           0   \n",
       "3                           0                           0   \n",
       "4                           0                           0   \n",
       "\n",
       "  Criminal Justice Status_NO Criminal Justice Status_UNKNOWN  \\\n",
       "0                          0                               0   \n",
       "1                          0                               0   \n",
       "2                          0                               0   \n",
       "3                          0                               0   \n",
       "4                          1                               0   \n",
       "\n",
       "  Criminal Justice Status_YES Criminal Justice Status_nan  \\\n",
       "0                           1                           0   \n",
       "1                           1                           0   \n",
       "2                           1                           0   \n",
       "3                           1                           0   \n",
       "4                           0                           0   \n",
       "\n",
       "  Private Insurance_NO Private Insurance_UNKNOWN Private Insurance_YES  \\\n",
       "0                    1                         0                     0   \n",
       "1                    1                         0                     0   \n",
       "2                    1                         0                     0   \n",
       "3                    1                         0                     0   \n",
       "4                    1                         0                     0   \n",
       "\n",
       "  Private Insurance_nan  \n",
       "0                     0  \n",
       "1                     0  \n",
       "2                     0  \n",
       "3                     0  \n",
       "4                     0  \n",
       "\n",
       "[5 rows x 91 columns]"
      ]
     },
     "execution_count": 6,
     "metadata": {},
     "output_type": "execute_result"
    }
   ],
   "source": [
    "# code\n",
    "cols_to_transform = [ 'Sex', 'Race', 'Obesity', 'Smokes', 'Alcohol Related Disorder','Drug Substance Disorder',\n",
    "                    'Criminal Justice Status','Private Insurance']\n",
    "df = pd.get_dummies( df, dummy_na=True, columns = cols_to_transform )\n",
    "df.head()"
   ]
  },
  {
   "cell_type": "code",
   "execution_count": 7,
   "metadata": {},
   "outputs": [],
   "source": [
    "# code\n",
    "selected_features = ['Sex_FEMALE','Sex_MALE','Sex_UNKNOWN','Race_BLACK ONLY','Race_MULTI-RACIAL','Race_OTHER',\n",
    "                     'Race_UNKNOWN RACE','Race_WHITE ONLY', 'Obesity_YES', 'Obesity_NO', 'Obesity_nan', \n",
    "                     'Smokes_YES', 'Smokes_NO','Alcohol Related Disorder_NO','Alcohol Related Disorder_YES',\n",
    "                    'Alcohol Related Disorder_UNKNOWN','Criminal Justice Status_YES','Criminal Justice Status_NO',\n",
    "                    'Criminal Justice Status_UNKNOWN','Private Insurance_NO','Private Insurance_YES','Private Insurance_UNKNOWN']"
   ]
  },
  {
   "cell_type": "markdown",
   "metadata": {},
   "source": [
    "# Train/Test Splits\n",
    "\n",
    "Create a train/test set split using sklearn's [train_test_split](http://scikit-learn.org/stable/modules/generated/sklearn.model_selection.train_test_split.html) function. We'll use these train/test splits for evaluating all our classification models."
   ]
  },
  {
   "cell_type": "code",
   "execution_count": 8,
   "metadata": {},
   "outputs": [],
   "source": [
    "# code\n",
    "x = df[selected_features]\n",
    "y = df['HBP']\n",
    "test_size = 0.3 # you can adjust this\n",
    "x_train, x_test, y_train, y_test = train_test_split(x, y, test_size=test_size)"
   ]
  },
  {
   "cell_type": "markdown",
   "metadata": {
    "collapsed": true
   },
   "source": [
    "# Bagging\n",
    "See the sklearn documentation on sklearn.ensemble.BaggingClassifier to see its parameters. We'll mostly be interested in:\n",
    "- n_estimators\n",
    "You can explore 2 more:\n",
    "- base_estimator\n",
    "- n_jobs"
   ]
  },
  {
   "cell_type": "markdown",
   "metadata": {},
   "source": [
    "Remember that when training a model, **you should only use the training data!** The test set is reserved exclusively for evaluating your model. Now let's use the classifier:"
   ]
  },
  {
   "cell_type": "code",
   "execution_count": 9,
   "metadata": {},
   "outputs": [],
   "source": [
    "# code\n",
    "bagging = BaggingClassifier(n_jobs=-1) # use the default parameters: base_estimator is a decision tree, n_estimators=10\n",
    "bagging.fit(x_train, y_train)\n",
    "pred_scores = bagging.predict_proba(x_test)"
   ]
  },
  {
   "cell_type": "markdown",
   "metadata": {},
   "source": [
    "## Bagging Tasks:\n",
    "\n",
    "The goal here is to explore different parameters to see their impact. How does each performance metric change, using different thresholds, as you vary the parameters?  You can write a nested for loop that loops over all the parameters and values."
   ]
  },
  {
   "cell_type": "code",
   "execution_count": 12,
   "metadata": {},
   "outputs": [
    {
     "name": "stdout",
     "output_type": "stream",
     "text": [
      "The true number of HBP is 557/2602 from the testing data, with percentage 21.41%\n",
      "\n"
     ]
    },
    {
     "name": "stderr",
     "output_type": "stream",
     "text": [
      "\r",
      "  0%|                                                                      | 0/9 [00:00<?, ?it/s]"
     ]
    },
    {
     "name": "stdout",
     "output_type": "stream",
     "text": [
      "Threshold: 0.1 | total predicted HBP is 2349 | accuracy is 0.28 | f1_score is 0.36\n",
      "Threshold: 0.2 | total predicted HBP is 1432 | accuracy is 0.50 | f1_score is 0.35\n",
      "Threshold: 0.30000000000000004 | total predicted HBP is 354 | accuracy is 0.74 | f1_score is 0.25\n",
      "Threshold: 0.4 | total predicted HBP is 159 | accuracy is 0.76 | f1_score is 0.15\n",
      "Threshold: 0.5 | total predicted HBP is 68 | accuracy is 0.77 | f1_score is 0.06\n",
      "Threshold: 0.6 | total predicted HBP is 20 | accuracy is 0.78 | f1_score is 0.01\n",
      "Threshold: 0.7000000000000001 | total predicted HBP is 11 | accuracy is 0.78 | f1_score is 0.00\n",
      "Threshold: 0.8 | total predicted HBP is 8 | accuracy is 0.78 | f1_score is 0.00\n",
      "Threshold: 0.9 | total predicted HBP is 1 | accuracy is 0.79 | f1_score is 0.00\n"
     ]
    },
    {
     "name": "stderr",
     "output_type": "stream",
     "text": [
      "100%|█████████████████████████████████████████████████████████████| 9/9 [00:00<00:00, 173.54it/s]\n"
     ]
    }
   ],
   "source": [
    "# CODE\n",
    "print(\"The true number of HBP is {}/{} from the testing data, with percentage {:.2f}%\\n\".format(\n",
    "    sum(y_test), len(y_test), 100.*sum(y_test)/len(y_test)))\n",
    "\n",
    "for threshold in tqdm(np.linspace(0.1,0.9,9)):\n",
    "    pred_label = [1 if x[1]>threshold else 0 for x in pred_scores]\n",
    "    print(\"Threshold: {} | total predicted HBP is {} | accuracy is {:.2f} | f1_score is {:.2f}\".format(\n",
    "        threshold, sum(pred_label), accuracy(pred_label,y_test), f1_score(y_test, pred_label)))\n"
   ]
  },
  {
   "cell_type": "markdown",
   "metadata": {},
   "source": [
    "If we take both Accuracy and F1 score into consideration, threshold=0.3 is a good choice."
   ]
  },
  {
   "cell_type": "markdown",
   "metadata": {},
   "source": [
    "## What is the effect of changing the base_estimator?"
   ]
  },
  {
   "cell_type": "markdown",
   "metadata": {},
   "source": [
    "What happens when you use different models inside bagging? What if you use logistic regresssion? Does the performance of LR by itself better or worse than if you use it with bagging? How does it change if you increase the number of estimators (bags)? \n",
    "\n",
    "You can try it with a simple metric at first, let's say AUC."
   ]
  },
  {
   "cell_type": "code",
   "execution_count": 19,
   "metadata": {},
   "outputs": [],
   "source": [
    "def draw_roc_curve(fpr, tpr):\n",
    "\n",
    "    roc_auc = auc(fpr, tpr)\n",
    "    plt.title('Receiver Operating Characteristic')\n",
    "    plt.plot(fpr, tpr, 'b', label = 'AUC = %0.2f' % roc_auc)\n",
    "    plt.legend(loc = 'lower right')\n",
    "    plt.plot([0, 1], [0, 1],'r--')\n",
    "    plt.xlim([0, 1])\n",
    "    plt.ylim([0, 1])\n",
    "    plt.ylabel('True Positive Rate')\n",
    "    plt.xlabel('False Positive Rate')\n",
    "    plt.show()\n"
   ]
  },
  {
   "cell_type": "code",
   "execution_count": 20,
   "metadata": {},
   "outputs": [
    {
     "data": {
      "image/png": "[encoded data removed]",
      "text/plain": [
       "<Figure size 432x288 with 1 Axes>"
      ]
     },
     "metadata": {
      "needs_background": "light"
     },
     "output_type": "display_data"
    },
    {
     "name": "stdout",
     "output_type": "stream",
     "text": [
      "The AUC under the original default setting of bagging is 0.612\n"
     ]
    }
   ],
   "source": [
    "# CODE\n",
    "fpr, tpr, thresholds = roc_curve(y_test, pred_scores[:,1], pos_label=1)\n",
    "draw_roc_curve(fpr, tpr)\n",
    "print(\"The AUC under the original default setting of bagging is {:.3f}\".format(auc(fpr, tpr)))"
   ]
  },
  {
   "cell_type": "markdown",
   "metadata": {},
   "source": [
    "Now let's use logistic regression as base estimator."
   ]
  },
  {
   "cell_type": "code",
   "execution_count": 21,
   "metadata": {},
   "outputs": [
    {
     "data": {
      "image/png": "[encoded data removed]",
      "text/plain": [
       "<Figure size 432x288 with 1 Axes>"
      ]
     },
     "metadata": {
      "needs_background": "light"
     },
     "output_type": "display_data"
    },
    {
     "name": "stdout",
     "output_type": "stream",
     "text": [
      "The AUC of bagging with Logistic Regression as base_estimator is 0.613\n"
     ]
    }
   ],
   "source": [
    "# CODE\n",
    "bagging = BaggingClassifier(base_estimator=LogisticRegression(solver='liblinear'),\n",
    "                            n_jobs=-1)\n",
    "bagging.fit(x_train, y_train)\n",
    "pred_scores = bagging.predict_proba(x_test)\n",
    "fpr, tpr, thresholds = roc_curve(y_test, pred_scores[:,1], pos_label=1)\n",
    "\n",
    "draw_roc_curve(fpr, tpr)\n",
    "\n",
    "print(\"The AUC of bagging with Logistic Regression as base_estimator is {:.3f}\".format(auc(fpr, tpr)))"
   ]
  },
  {
   "cell_type": "markdown",
   "metadata": {},
   "source": [
    "It seems that Logistic Regression is a better candidate than decision tree as base_estimator. Let's see how does LR itself perform without bagging."
   ]
  },
  {
   "cell_type": "code",
   "execution_count": 23,
   "metadata": {},
   "outputs": [
    {
     "data": {
      "image/png": "[encoded data removed]",
      "text/plain": [
       "<Figure size 432x288 with 1 Axes>"
      ]
     },
     "metadata": {
      "needs_background": "light"
     },
     "output_type": "display_data"
    },
    {
     "name": "stdout",
     "output_type": "stream",
     "text": [
      "The AUC of logistic regression itself is 0.613\n"
     ]
    }
   ],
   "source": [
    "# CODE\n",
    "classifier = LogisticRegression(solver='liblinear')\n",
    "classifier.fit(x_train, y_train)\n",
    "pred_scores = classifier.predict_proba(x_test)\n",
    "fpr, tpr, thresholds = roc_curve(y_test, pred_scores[:,1], pos_label=1)\n",
    "\n",
    "draw_roc_curve(fpr, tpr)\n",
    "print(\"The AUC of logistic regression itself is {:.3f}\".format(auc(fpr, tpr)))"
   ]
  },
  {
   "cell_type": "markdown",
   "metadata": {},
   "source": [
    "Seems logistic regression without bagging is performing good. Can bagging outperform it with increasing number of bags?"
   ]
  },
  {
   "cell_type": "code",
   "execution_count": 25,
   "metadata": {},
   "outputs": [
    {
     "name": "stderr",
     "output_type": "stream",
     "text": [
      "\r",
      "  0%|                                                                      | 0/4 [00:00<?, ?it/s]"
     ]
    },
    {
     "data": {
      "image/png": "[encoded data removed]",
      "text/plain": [
       "<Figure size 432x288 with 1 Axes>"
      ]
     },
     "metadata": {
      "needs_background": "light"
     },
     "output_type": "display_data"
    },
    {
     "name": "stdout",
     "output_type": "stream",
     "text": [
      "The AUC of Bagging with Logistic Regression & 10 n_estimators is 0.616\n"
     ]
    },
    {
     "name": "stderr",
     "output_type": "stream",
     "text": [
      "\r",
      " 25%|███████████████▌                                              | 1/4 [00:02<00:07,  2.52s/it]"
     ]
    },
    {
     "data": {
      "image/png": "[encoded data removed]",
      "text/plain": [
       "<Figure size 432x288 with 1 Axes>"
      ]
     },
     "metadata": {
      "needs_background": "light"
     },
     "output_type": "display_data"
    },
    {
     "name": "stdout",
     "output_type": "stream",
     "text": [
      "The AUC of Bagging with Logistic Regression & 25 n_estimators is 0.614\n"
     ]
    },
    {
     "name": "stderr",
     "output_type": "stream",
     "text": [
      "\r",
      " 50%|███████████████████████████████                               | 2/4 [00:02<00:03,  1.83s/it]"
     ]
    },
    {
     "data": {
      "image/png": "[encoded data removed]",
      "text/plain": [
       "<Figure size 432x288 with 1 Axes>"
      ]
     },
     "metadata": {
      "needs_background": "light"
     },
     "output_type": "display_data"
    },
    {
     "name": "stdout",
     "output_type": "stream",
     "text": [
      "The AUC of Bagging with Logistic Regression & 50 n_estimators is 0.615\n"
     ]
    },
    {
     "name": "stderr",
     "output_type": "stream",
     "text": [
      "\r",
      " 75%|██████████████████████████████████████████████▌               | 3/4 [00:03<00:01,  1.38s/it]"
     ]
    },
    {
     "data": {
      "image/png": "[encoded data removed]",
      "text/plain": [
       "<Figure size 432x288 with 1 Axes>"
      ]
     },
     "metadata": {
      "needs_background": "light"
     },
     "output_type": "display_data"
    },
    {
     "name": "stdout",
     "output_type": "stream",
     "text": [
      "The AUC of Bagging with Logistic Regression & 100 n_estimators is 0.613\n"
     ]
    },
    {
     "name": "stderr",
     "output_type": "stream",
     "text": [
      "100%|██████████████████████████████████████████████████████████████| 4/4 [00:03<00:00,  1.10s/it]\n"
     ]
    }
   ],
   "source": [
    "# CODE\n",
    "for n_estimator in tqdm([10, 25, 50, 100]):\n",
    "    bagging = BaggingClassifier(base_estimator=LogisticRegression(solver='liblinear'),\n",
    "                                n_estimators=n_estimator,\n",
    "                                n_jobs=-1)\n",
    "    bagging.fit(x_train, y_train)\n",
    "    pred_scores = bagging.predict_proba(x_test)\n",
    "    fpr, tpr, thresholds = roc_curve(y_test, pred_scores[:,1], pos_label=1)\n",
    "\n",
    "    draw_roc_curve(fpr, tpr)\n",
    "\n",
    "    print(\"The AUC of Bagging with Logistic Regression & {} n_estimators is {:.3f}\".format(n_estimator, auc(fpr, tpr)))"
   ]
  },
  {
   "cell_type": "markdown",
   "metadata": {},
   "source": [
    "# Boosting\n",
    "We'll start by using adaboost, that is one of the boosting classifiers implemented in sklearn.\n",
    "https://scikit-learn.org/stable/modules/generated/sklearn.ensemble.AdaBoostClassifier.html\n",
    "\n",
    "Similar to bagging, there are two parameters to explore:\n",
    "- n_estimators (number of rounds of boosting)\n",
    "- base_estimator\n",
    "\n",
    "Why is there no n_jobs parameter here?\n",
    "\n",
    "\n",
    "\n",
    "We can explore other boosting methods later such as gradient boosting\n",
    "https://scikit-learn.org/stable/modules/generated/sklearn.ensemble.GradientBoostingClassifier.html"
   ]
  },
  {
   "cell_type": "raw",
   "metadata": {},
   "source": [
    "### Let's fit an adaboost model "
   ]
  },
  {
   "cell_type": "code",
   "execution_count": 26,
   "metadata": {},
   "outputs": [
    {
     "data": {
      "text/plain": [
       "AdaBoostClassifier(algorithm='SAMME.R', base_estimator=None, learning_rate=1.0,\n",
       "                   n_estimators=50, random_state=None)"
      ]
     },
     "execution_count": 26,
     "metadata": {},
     "output_type": "execute_result"
    }
   ],
   "source": [
    "boost = AdaBoostClassifier() # use the default parameters: base_estimator is a decision tree, n_estimators=50\n",
    "boost.fit(x_train, y_train)"
   ]
  },
  {
   "cell_type": "markdown",
   "metadata": {},
   "source": [
    "### Now predict scores on the test set and plot the distribution of scores"
   ]
  },
  {
   "cell_type": "code",
   "execution_count": 27,
   "metadata": {},
   "outputs": [
    {
     "data": {
      "text/plain": [
       "(array([1.000e+00, 0.000e+00, 0.000e+00, 0.000e+00, 0.000e+00, 0.000e+00,\n",
       "        0.000e+00, 0.000e+00, 0.000e+00, 2.601e+03]),\n",
       " array([0.31740843, 0.33557891, 0.35374938, 0.37191986, 0.39009033,\n",
       "        0.40826081, 0.42643128, 0.44460175, 0.46277223, 0.4809427 ,\n",
       "        0.49911318]),\n",
       " <a list of 10 Patch objects>)"
      ]
     },
     "execution_count": 27,
     "metadata": {},
     "output_type": "execute_result"
    },
    {
     "data": {
      "image/png": "[encoded data removed]",
      "text/plain": [
       "<Figure size 432x288 with 1 Axes>"
      ]
     },
     "metadata": {
      "needs_background": "light"
     },
     "output_type": "display_data"
    }
   ],
   "source": [
    "pred_scores = boost.predict_proba(x_test)\n",
    "plt.hist(pred_scores[:,1])"
   ]
  },
  {
   "cell_type": "markdown",
   "metadata": {},
   "source": [
    "### now we can select a threshold and calculate accuracy"
   ]
  },
  {
   "cell_type": "code",
   "execution_count": 28,
   "metadata": {},
   "outputs": [
    {
     "name": "stdout",
     "output_type": "stream",
     "text": [
      "The true number of HBP is 557/2602 from the testing data, with percentage 21.41%\n",
      "\n",
      "(Threshold: 0.488), the total number of predicted HBP is 2599, the accuracy is 0.21, the f1_score is 0.35\n",
      "(Threshold: 0.489), the total number of predicted HBP is 2558, the accuracy is 0.23, the f1_score is 0.35\n",
      "(Threshold: 0.490), the total number of predicted HBP is 2472, the accuracy is 0.25, the f1_score is 0.36\n",
      "(Threshold: 0.491), the total number of predicted HBP is 2129, the accuracy is 0.35, the f1_score is 0.37\n",
      "(Threshold: 0.492), the total number of predicted HBP is 1646, the accuracy is 0.48, the f1_score is 0.38\n",
      "(Threshold: 0.494), the total number of predicted HBP is 1147, the accuracy is 0.58, the f1_score is 0.37\n",
      "(Threshold: 0.495), the total number of predicted HBP is 487, the accuracy is 0.72, the f1_score is 0.31\n",
      "(Threshold: 0.496), the total number of predicted HBP is 340, the accuracy is 0.75, the f1_score is 0.27\n",
      "(Threshold: 0.497), the total number of predicted HBP is 132, the accuracy is 0.77, the f1_score is 0.13\n",
      "(Threshold: 0.498), the total number of predicted HBP is 17, the accuracy is 0.78, the f1_score is 0.02\n"
     ]
    }
   ],
   "source": [
    "# CODE\n",
    "print(\"The true number of HBP is {}/{} from the testing data, with percentage {:.2f}%\\n\".format(\n",
    "    sum(y_test), len(y_test), 100.*sum(y_test)/len(y_test)))\n",
    "\n",
    "for threshold in np.linspace(0.488,0.498,10):\n",
    "    pred_label = [1 if x[1]>threshold else 0 for x in pred_scores]\n",
    "    print(\"(Threshold: {:.3f}), the total number of predicted HBP is {}, the accuracy is {:.2f}, the f1_score is {:.2f}\".format(\n",
    "        threshold, sum(pred_label), accuracy(pred_label,y_test), f1_score(y_test, pred_label)))\n",
    "    print"
   ]
  },
  {
   "cell_type": "markdown",
   "metadata": {},
   "source": [
    "### Let's now vary values of n_estimators and see the results."
   ]
  },
  {
   "cell_type": "code",
   "execution_count": 29,
   "metadata": {},
   "outputs": [
    {
     "name": "stdout",
     "output_type": "stream",
     "text": [
      "(n_estimators: 1), the AUC of logistic regression it self is 0.56033\n",
      "(n_estimators: 5), the AUC of logistic regression it self is 0.60524\n",
      "(n_estimators: 10), the AUC of logistic regression it self is 0.60758\n",
      "(n_estimators: 50), the AUC of logistic regression it self is 0.61375\n",
      "(n_estimators: 100), the AUC of logistic regression it self is 0.61334\n",
      "(n_estimators: 200), the AUC of logistic regression it self is 0.61337\n",
      "(n_estimators: 500), the AUC of logistic regression it self is 0.61337\n",
      "(n_estimators: 1000), the AUC of logistic regression it self is 0.61337\n"
     ]
    }
   ],
   "source": [
    "# CODE\n",
    "for n_estimators in [1,5,10,50, 100, 200, 500, 1000]:\n",
    "    boost = AdaBoostClassifier(n_estimators=n_estimators) # use the default parameters: base_estimator is a decision tree, n_estimators=50\n",
    "    boost.fit(x_train, y_train)\n",
    "    pred_scores = boost.predict_proba(x_test)\n",
    "    fpr, tpr, thresholds = roc_curve(y_test, pred_scores[:,1], pos_label=1)\n",
    "    \n",
    "    print(\"(n_estimators: {}), the AUC of logistic regression it self is {:.5f}\".format(n_estimators, auc(fpr, tpr)))"
   ]
  },
  {
   "cell_type": "markdown",
   "metadata": {},
   "source": [
    "### what happens if we use a different base_estimator?"
   ]
  },
  {
   "cell_type": "code",
   "execution_count": null,
   "metadata": {
    "collapsed": true
   },
   "outputs": [],
   "source": [
    "# CODE\n"
   ]
  },
  {
   "cell_type": "markdown",
   "metadata": {},
   "source": [
    "### Now let's build precision, recall, % of population graphs for all the models above varying the different parameters "
   ]
  },
  {
   "cell_type": "code",
   "execution_count": 30,
   "metadata": {},
   "outputs": [],
   "source": [
    "# CODE\n",
    "bagging = BaggingClassifier() # use the default parameters: base_estimator is a decision tree, n_estimators=10\n",
    "bagging.fit(x_train, y_train)\n",
    "pred_scores = bagging.predict_proba(x_test)\n",
    "precision, recall, thresholds = precision_recall_curve(y_test, pred_scores[:,1],pos_label=1)\n",
    "population = [1.*sum(pred_scores[:,1]>threshold)/len(pred_scores) for threshold in thresholds]"
   ]
  },
  {
   "cell_type": "code",
   "execution_count": 31,
   "metadata": {},
   "outputs": [
    {
     "data": {
      "image/png": "[encoded data removed]",
      "text/plain": [
       "<Figure size 432x288 with 1 Axes>"
      ]
     },
     "metadata": {
      "needs_background": "light"
     },
     "output_type": "display_data"
    }
   ],
   "source": [
    "p, = plt.plot(population, precision[:-1], color='b') # last element of precision is 0\n",
    "r, = plt.plot(population, recall[:-1], color='r') # last element of recall is 1\n",
    "plt.legend([p, r], ['precision', 'recall'])\n",
    "plt.show()"
   ]
  },
  {
   "cell_type": "code",
   "execution_count": 33,
   "metadata": {},
   "outputs": [],
   "source": [
    "boost = AdaBoostClassifier(base_estimator=LogisticRegression(solver='liblinear'))\n",
    "boost.fit(x_train, y_train)\n",
    "pred_scores = boost.predict_proba(x_test)\n",
    "precision, recall, thresholds = precision_recall_curve(y_test, pred_scores[:,1],pos_label=1)\n",
    "population = [1.*sum(pred_scores[:,1]>threshold)/len(pred_scores) for threshold in thresholds]"
   ]
  },
  {
   "cell_type": "code",
   "execution_count": 34,
   "metadata": {},
   "outputs": [
    {
     "data": {
      "image/png": "[encoded data removed]",
      "text/plain": [
       "<Figure size 432x288 with 1 Axes>"
      ]
     },
     "metadata": {
      "needs_background": "light"
     },
     "output_type": "display_data"
    }
   ],
   "source": [
    "p, = plt.plot(population, precision[:-1], color='b') # last element of precision is 1\n",
    "r, = plt.plot(population, recall[:-1], color='r') # last element of recall is 0\n",
    "plt.legend([p, r], ['precision', 'recall'])\n",
    "plt.show()"
   ]
  },
  {
   "cell_type": "code",
   "execution_count": 36,
   "metadata": {},
   "outputs": [],
   "source": [
    "classifier = LogisticRegression(solver='liblinear')\n",
    "classifier.fit(x_train, y_train)\n",
    "pred_scores = classifier.predict_proba(x_test)\n",
    "precision, recall, thresholds = precision_recall_curve(y_test, pred_scores[:,1],pos_label=1)\n",
    "population = [1.*sum(pred_scores[:,1]>threshold)/len(pred_scores) for threshold in thresholds]"
   ]
  },
  {
   "cell_type": "code",
   "execution_count": 37,
   "metadata": {},
   "outputs": [
    {
     "data": {
      "image/png": "[encoded data removed]",
      "text/plain": [
       "<Figure size 432x288 with 1 Axes>"
      ]
     },
     "metadata": {
      "needs_background": "light"
     },
     "output_type": "display_data"
    }
   ],
   "source": [
    "p, = plt.plot(population, precision[:-1], color='b') # last element of precision is 1\n",
    "r, = plt.plot(population, recall[:-1], color='r') # last element of recall is 0\n",
    "plt.legend([p, r], ['precision', 'recall'])\n",
    "plt.show()"
   ]
  },
  {
   "cell_type": "markdown",
   "metadata": {},
   "source": [
    "### what can we learn about bagging and boosting from these results?"
   ]
  },
  {
   "cell_type": "code",
   "execution_count": null,
   "metadata": {
    "collapsed": true
   },
   "outputs": [],
   "source": []
  },
  {
   "cell_type": "markdown",
   "metadata": {},
   "source": [
    "### do bagging and boosting always improve over the base estimator used?"
   ]
  },
  {
   "cell_type": "code",
   "execution_count": null,
   "metadata": {
    "collapsed": true
   },
   "outputs": [],
   "source": []
  },
  {
   "cell_type": "markdown",
   "metadata": {},
   "source": [
    "# Random Forests\n",
    "If you have time, you can get started on exploring Random Forests that we'll cover in the next class.\n",
    "https://scikit-learn.org/stable/modules/generated/sklearn.ensemble.RandomForestClassifier.html\n",
    "\n"
   ]
  },
  {
   "cell_type": "code",
   "execution_count": null,
   "metadata": {
    "collapsed": true
   },
   "outputs": [],
   "source": []
  }
 ],
 "metadata": {
  "kernelspec": {
   "display_name": "Python 3",
   "language": "python",
   "name": "python3"
  },
  "language_info": {
   "codemirror_mode": {
    "name": "ipython",
    "version": 3
   },
   "file_extension": ".py",
   "mimetype": "text/x-python",
   "name": "python",
   "nbconvert_exporter": "python",
   "pygments_lexer": "ipython3",
   "version": "3.7.3"
  }
 },
 "nbformat": 4,
 "nbformat_minor": 2
}
